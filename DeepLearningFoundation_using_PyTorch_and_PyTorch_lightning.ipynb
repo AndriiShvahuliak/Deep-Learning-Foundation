{
  "nbformat": 4,
  "nbformat_minor": 0,
  "metadata": {
    "colab": {
      "provenance": [],
      "toc_visible": true,
      "authorship_tag": "ABX9TyNxCUQDiDz9tvgfjwTZRGjL",
      "include_colab_link": true
    },
    "kernelspec": {
      "name": "python3",
      "display_name": "Python 3"
    },
    "language_info": {
      "name": "python"
    },
    "widgets": {
      "application/vnd.jupyter.widget-state+json": {
        "96669223886e4eff84aa33b6736febb2": {
          "model_module": "@jupyter-widgets/controls",
          "model_name": "HBoxModel",
          "model_module_version": "1.5.0",
          "state": {
            "_dom_classes": [],
            "_model_module": "@jupyter-widgets/controls",
            "_model_module_version": "1.5.0",
            "_model_name": "HBoxModel",
            "_view_count": null,
            "_view_module": "@jupyter-widgets/controls",
            "_view_module_version": "1.5.0",
            "_view_name": "HBoxView",
            "box_style": "",
            "children": [
              "IPY_MODEL_10de5a3ef9434dda83c60c06f171777d",
              "IPY_MODEL_671ae0ad0518497f88f5fd42edcc7399",
              "IPY_MODEL_179dba6538d54522bd4d0ae456f8ddfb"
            ],
            "layout": "IPY_MODEL_4af84999a2bc4bc19220ea09d9c8fb31"
          }
        },
        "10de5a3ef9434dda83c60c06f171777d": {
          "model_module": "@jupyter-widgets/controls",
          "model_name": "HTMLModel",
          "model_module_version": "1.5.0",
          "state": {
            "_dom_classes": [],
            "_model_module": "@jupyter-widgets/controls",
            "_model_module_version": "1.5.0",
            "_model_name": "HTMLModel",
            "_view_count": null,
            "_view_module": "@jupyter-widgets/controls",
            "_view_module_version": "1.5.0",
            "_view_name": "HTMLView",
            "description": "",
            "description_tooltip": null,
            "layout": "IPY_MODEL_c6f6a8331cd542ec97d256b163d95a21",
            "placeholder": "​",
            "style": "IPY_MODEL_f4602fe0d58140a39ddc447aa2e9a7cd",
            "value": "Epoch 19: 100%"
          }
        },
        "671ae0ad0518497f88f5fd42edcc7399": {
          "model_module": "@jupyter-widgets/controls",
          "model_name": "FloatProgressModel",
          "model_module_version": "1.5.0",
          "state": {
            "_dom_classes": [],
            "_model_module": "@jupyter-widgets/controls",
            "_model_module_version": "1.5.0",
            "_model_name": "FloatProgressModel",
            "_view_count": null,
            "_view_module": "@jupyter-widgets/controls",
            "_view_module_version": "1.5.0",
            "_view_name": "ProgressView",
            "bar_style": "success",
            "description": "",
            "description_tooltip": null,
            "layout": "IPY_MODEL_1df2027fbbf542e7bd55da459527a8fd",
            "max": 175,
            "min": 0,
            "orientation": "horizontal",
            "style": "IPY_MODEL_c6f4879f27074c5da93fed1d11e2c023",
            "value": 175
          }
        },
        "179dba6538d54522bd4d0ae456f8ddfb": {
          "model_module": "@jupyter-widgets/controls",
          "model_name": "HTMLModel",
          "model_module_version": "1.5.0",
          "state": {
            "_dom_classes": [],
            "_model_module": "@jupyter-widgets/controls",
            "_model_module_version": "1.5.0",
            "_model_name": "HTMLModel",
            "_view_count": null,
            "_view_module": "@jupyter-widgets/controls",
            "_view_module_version": "1.5.0",
            "_view_name": "HTMLView",
            "description": "",
            "description_tooltip": null,
            "layout": "IPY_MODEL_3ff295f68af044298248e95d206ded14",
            "placeholder": "​",
            "style": "IPY_MODEL_5800fbf01a4a46fc9aaed37b10f6195f",
            "value": " 175/175 [00:03&lt;00:00, 53.66it/s, v_num=0, train_loss=0.375, train_acc=100.0]"
          }
        },
        "4af84999a2bc4bc19220ea09d9c8fb31": {
          "model_module": "@jupyter-widgets/base",
          "model_name": "LayoutModel",
          "model_module_version": "1.2.0",
          "state": {
            "_model_module": "@jupyter-widgets/base",
            "_model_module_version": "1.2.0",
            "_model_name": "LayoutModel",
            "_view_count": null,
            "_view_module": "@jupyter-widgets/base",
            "_view_module_version": "1.2.0",
            "_view_name": "LayoutView",
            "align_content": null,
            "align_items": null,
            "align_self": null,
            "border": null,
            "bottom": null,
            "display": "inline-flex",
            "flex": null,
            "flex_flow": "row wrap",
            "grid_area": null,
            "grid_auto_columns": null,
            "grid_auto_flow": null,
            "grid_auto_rows": null,
            "grid_column": null,
            "grid_gap": null,
            "grid_row": null,
            "grid_template_areas": null,
            "grid_template_columns": null,
            "grid_template_rows": null,
            "height": null,
            "justify_content": null,
            "justify_items": null,
            "left": null,
            "margin": null,
            "max_height": null,
            "max_width": null,
            "min_height": null,
            "min_width": null,
            "object_fit": null,
            "object_position": null,
            "order": null,
            "overflow": null,
            "overflow_x": null,
            "overflow_y": null,
            "padding": null,
            "right": null,
            "top": null,
            "visibility": null,
            "width": "100%"
          }
        },
        "c6f6a8331cd542ec97d256b163d95a21": {
          "model_module": "@jupyter-widgets/base",
          "model_name": "LayoutModel",
          "model_module_version": "1.2.0",
          "state": {
            "_model_module": "@jupyter-widgets/base",
            "_model_module_version": "1.2.0",
            "_model_name": "LayoutModel",
            "_view_count": null,
            "_view_module": "@jupyter-widgets/base",
            "_view_module_version": "1.2.0",
            "_view_name": "LayoutView",
            "align_content": null,
            "align_items": null,
            "align_self": null,
            "border": null,
            "bottom": null,
            "display": null,
            "flex": null,
            "flex_flow": null,
            "grid_area": null,
            "grid_auto_columns": null,
            "grid_auto_flow": null,
            "grid_auto_rows": null,
            "grid_column": null,
            "grid_gap": null,
            "grid_row": null,
            "grid_template_areas": null,
            "grid_template_columns": null,
            "grid_template_rows": null,
            "height": null,
            "justify_content": null,
            "justify_items": null,
            "left": null,
            "margin": null,
            "max_height": null,
            "max_width": null,
            "min_height": null,
            "min_width": null,
            "object_fit": null,
            "object_position": null,
            "order": null,
            "overflow": null,
            "overflow_x": null,
            "overflow_y": null,
            "padding": null,
            "right": null,
            "top": null,
            "visibility": null,
            "width": null
          }
        },
        "f4602fe0d58140a39ddc447aa2e9a7cd": {
          "model_module": "@jupyter-widgets/controls",
          "model_name": "DescriptionStyleModel",
          "model_module_version": "1.5.0",
          "state": {
            "_model_module": "@jupyter-widgets/controls",
            "_model_module_version": "1.5.0",
            "_model_name": "DescriptionStyleModel",
            "_view_count": null,
            "_view_module": "@jupyter-widgets/base",
            "_view_module_version": "1.2.0",
            "_view_name": "StyleView",
            "description_width": ""
          }
        },
        "1df2027fbbf542e7bd55da459527a8fd": {
          "model_module": "@jupyter-widgets/base",
          "model_name": "LayoutModel",
          "model_module_version": "1.2.0",
          "state": {
            "_model_module": "@jupyter-widgets/base",
            "_model_module_version": "1.2.0",
            "_model_name": "LayoutModel",
            "_view_count": null,
            "_view_module": "@jupyter-widgets/base",
            "_view_module_version": "1.2.0",
            "_view_name": "LayoutView",
            "align_content": null,
            "align_items": null,
            "align_self": null,
            "border": null,
            "bottom": null,
            "display": null,
            "flex": "2",
            "flex_flow": null,
            "grid_area": null,
            "grid_auto_columns": null,
            "grid_auto_flow": null,
            "grid_auto_rows": null,
            "grid_column": null,
            "grid_gap": null,
            "grid_row": null,
            "grid_template_areas": null,
            "grid_template_columns": null,
            "grid_template_rows": null,
            "height": null,
            "justify_content": null,
            "justify_items": null,
            "left": null,
            "margin": null,
            "max_height": null,
            "max_width": null,
            "min_height": null,
            "min_width": null,
            "object_fit": null,
            "object_position": null,
            "order": null,
            "overflow": null,
            "overflow_x": null,
            "overflow_y": null,
            "padding": null,
            "right": null,
            "top": null,
            "visibility": null,
            "width": null
          }
        },
        "c6f4879f27074c5da93fed1d11e2c023": {
          "model_module": "@jupyter-widgets/controls",
          "model_name": "ProgressStyleModel",
          "model_module_version": "1.5.0",
          "state": {
            "_model_module": "@jupyter-widgets/controls",
            "_model_module_version": "1.5.0",
            "_model_name": "ProgressStyleModel",
            "_view_count": null,
            "_view_module": "@jupyter-widgets/base",
            "_view_module_version": "1.2.0",
            "_view_name": "StyleView",
            "bar_color": null,
            "description_width": ""
          }
        },
        "3ff295f68af044298248e95d206ded14": {
          "model_module": "@jupyter-widgets/base",
          "model_name": "LayoutModel",
          "model_module_version": "1.2.0",
          "state": {
            "_model_module": "@jupyter-widgets/base",
            "_model_module_version": "1.2.0",
            "_model_name": "LayoutModel",
            "_view_count": null,
            "_view_module": "@jupyter-widgets/base",
            "_view_module_version": "1.2.0",
            "_view_name": "LayoutView",
            "align_content": null,
            "align_items": null,
            "align_self": null,
            "border": null,
            "bottom": null,
            "display": null,
            "flex": null,
            "flex_flow": null,
            "grid_area": null,
            "grid_auto_columns": null,
            "grid_auto_flow": null,
            "grid_auto_rows": null,
            "grid_column": null,
            "grid_gap": null,
            "grid_row": null,
            "grid_template_areas": null,
            "grid_template_columns": null,
            "grid_template_rows": null,
            "height": null,
            "justify_content": null,
            "justify_items": null,
            "left": null,
            "margin": null,
            "max_height": null,
            "max_width": null,
            "min_height": null,
            "min_width": null,
            "object_fit": null,
            "object_position": null,
            "order": null,
            "overflow": null,
            "overflow_x": null,
            "overflow_y": null,
            "padding": null,
            "right": null,
            "top": null,
            "visibility": null,
            "width": null
          }
        },
        "5800fbf01a4a46fc9aaed37b10f6195f": {
          "model_module": "@jupyter-widgets/controls",
          "model_name": "DescriptionStyleModel",
          "model_module_version": "1.5.0",
          "state": {
            "_model_module": "@jupyter-widgets/controls",
            "_model_module_version": "1.5.0",
            "_model_name": "DescriptionStyleModel",
            "_view_count": null,
            "_view_module": "@jupyter-widgets/base",
            "_view_module_version": "1.2.0",
            "_view_name": "StyleView",
            "description_width": ""
          }
        },
        "c99540eb2e8f449c82a25fd00de16d57": {
          "model_module": "@jupyter-widgets/controls",
          "model_name": "HBoxModel",
          "model_module_version": "1.5.0",
          "state": {
            "_dom_classes": [],
            "_model_module": "@jupyter-widgets/controls",
            "_model_module_version": "1.5.0",
            "_model_name": "HBoxModel",
            "_view_count": null,
            "_view_module": "@jupyter-widgets/controls",
            "_view_module_version": "1.5.0",
            "_view_name": "HBoxView",
            "box_style": "",
            "children": [
              "IPY_MODEL_efd3a445e83b4c04a3706d75a5dfd555",
              "IPY_MODEL_b9977c3ce6c54b68b9e4fcc754be42b7",
              "IPY_MODEL_f8740d7b1d2241b0a43ff2884cd81714"
            ],
            "layout": "IPY_MODEL_a2b6f12047c2424680d50af0ffdfadb2"
          }
        },
        "efd3a445e83b4c04a3706d75a5dfd555": {
          "model_module": "@jupyter-widgets/controls",
          "model_name": "HTMLModel",
          "model_module_version": "1.5.0",
          "state": {
            "_dom_classes": [],
            "_model_module": "@jupyter-widgets/controls",
            "_model_module_version": "1.5.0",
            "_model_name": "HTMLModel",
            "_view_count": null,
            "_view_module": "@jupyter-widgets/controls",
            "_view_module_version": "1.5.0",
            "_view_name": "HTMLView",
            "description": "",
            "description_tooltip": null,
            "layout": "IPY_MODEL_682b69f080a543c79dcdb164e693dba5",
            "placeholder": "​",
            "style": "IPY_MODEL_2540921ef2a3440088e8dea12cc45c69",
            "value": "Testing DataLoader 0: 100%"
          }
        },
        "b9977c3ce6c54b68b9e4fcc754be42b7": {
          "model_module": "@jupyter-widgets/controls",
          "model_name": "FloatProgressModel",
          "model_module_version": "1.5.0",
          "state": {
            "_dom_classes": [],
            "_model_module": "@jupyter-widgets/controls",
            "_model_module_version": "1.5.0",
            "_model_name": "FloatProgressModel",
            "_view_count": null,
            "_view_module": "@jupyter-widgets/controls",
            "_view_module_version": "1.5.0",
            "_view_name": "ProgressView",
            "bar_style": "success",
            "description": "",
            "description_tooltip": null,
            "layout": "IPY_MODEL_8e577474deef4116818dcd5f566a5fe7",
            "max": 75,
            "min": 0,
            "orientation": "horizontal",
            "style": "IPY_MODEL_38c49c394b6b498697b8b87ad1173db7",
            "value": 75
          }
        },
        "f8740d7b1d2241b0a43ff2884cd81714": {
          "model_module": "@jupyter-widgets/controls",
          "model_name": "HTMLModel",
          "model_module_version": "1.5.0",
          "state": {
            "_dom_classes": [],
            "_model_module": "@jupyter-widgets/controls",
            "_model_module_version": "1.5.0",
            "_model_name": "HTMLModel",
            "_view_count": null,
            "_view_module": "@jupyter-widgets/controls",
            "_view_module_version": "1.5.0",
            "_view_name": "HTMLView",
            "description": "",
            "description_tooltip": null,
            "layout": "IPY_MODEL_45d14372cd5547849cd2e3e7b3712ca0",
            "placeholder": "​",
            "style": "IPY_MODEL_f73399c63d1549ad923001a91fda3373",
            "value": " 75/75 [00:00&lt;00:00, 106.68it/s]"
          }
        },
        "a2b6f12047c2424680d50af0ffdfadb2": {
          "model_module": "@jupyter-widgets/base",
          "model_name": "LayoutModel",
          "model_module_version": "1.2.0",
          "state": {
            "_model_module": "@jupyter-widgets/base",
            "_model_module_version": "1.2.0",
            "_model_name": "LayoutModel",
            "_view_count": null,
            "_view_module": "@jupyter-widgets/base",
            "_view_module_version": "1.2.0",
            "_view_name": "LayoutView",
            "align_content": null,
            "align_items": null,
            "align_self": null,
            "border": null,
            "bottom": null,
            "display": "inline-flex",
            "flex": null,
            "flex_flow": "row wrap",
            "grid_area": null,
            "grid_auto_columns": null,
            "grid_auto_flow": null,
            "grid_auto_rows": null,
            "grid_column": null,
            "grid_gap": null,
            "grid_row": null,
            "grid_template_areas": null,
            "grid_template_columns": null,
            "grid_template_rows": null,
            "height": null,
            "justify_content": null,
            "justify_items": null,
            "left": null,
            "margin": null,
            "max_height": null,
            "max_width": null,
            "min_height": null,
            "min_width": null,
            "object_fit": null,
            "object_position": null,
            "order": null,
            "overflow": null,
            "overflow_x": null,
            "overflow_y": null,
            "padding": null,
            "right": null,
            "top": null,
            "visibility": null,
            "width": "100%"
          }
        },
        "682b69f080a543c79dcdb164e693dba5": {
          "model_module": "@jupyter-widgets/base",
          "model_name": "LayoutModel",
          "model_module_version": "1.2.0",
          "state": {
            "_model_module": "@jupyter-widgets/base",
            "_model_module_version": "1.2.0",
            "_model_name": "LayoutModel",
            "_view_count": null,
            "_view_module": "@jupyter-widgets/base",
            "_view_module_version": "1.2.0",
            "_view_name": "LayoutView",
            "align_content": null,
            "align_items": null,
            "align_self": null,
            "border": null,
            "bottom": null,
            "display": null,
            "flex": null,
            "flex_flow": null,
            "grid_area": null,
            "grid_auto_columns": null,
            "grid_auto_flow": null,
            "grid_auto_rows": null,
            "grid_column": null,
            "grid_gap": null,
            "grid_row": null,
            "grid_template_areas": null,
            "grid_template_columns": null,
            "grid_template_rows": null,
            "height": null,
            "justify_content": null,
            "justify_items": null,
            "left": null,
            "margin": null,
            "max_height": null,
            "max_width": null,
            "min_height": null,
            "min_width": null,
            "object_fit": null,
            "object_position": null,
            "order": null,
            "overflow": null,
            "overflow_x": null,
            "overflow_y": null,
            "padding": null,
            "right": null,
            "top": null,
            "visibility": null,
            "width": null
          }
        },
        "2540921ef2a3440088e8dea12cc45c69": {
          "model_module": "@jupyter-widgets/controls",
          "model_name": "DescriptionStyleModel",
          "model_module_version": "1.5.0",
          "state": {
            "_model_module": "@jupyter-widgets/controls",
            "_model_module_version": "1.5.0",
            "_model_name": "DescriptionStyleModel",
            "_view_count": null,
            "_view_module": "@jupyter-widgets/base",
            "_view_module_version": "1.2.0",
            "_view_name": "StyleView",
            "description_width": ""
          }
        },
        "8e577474deef4116818dcd5f566a5fe7": {
          "model_module": "@jupyter-widgets/base",
          "model_name": "LayoutModel",
          "model_module_version": "1.2.0",
          "state": {
            "_model_module": "@jupyter-widgets/base",
            "_model_module_version": "1.2.0",
            "_model_name": "LayoutModel",
            "_view_count": null,
            "_view_module": "@jupyter-widgets/base",
            "_view_module_version": "1.2.0",
            "_view_name": "LayoutView",
            "align_content": null,
            "align_items": null,
            "align_self": null,
            "border": null,
            "bottom": null,
            "display": null,
            "flex": "2",
            "flex_flow": null,
            "grid_area": null,
            "grid_auto_columns": null,
            "grid_auto_flow": null,
            "grid_auto_rows": null,
            "grid_column": null,
            "grid_gap": null,
            "grid_row": null,
            "grid_template_areas": null,
            "grid_template_columns": null,
            "grid_template_rows": null,
            "height": null,
            "justify_content": null,
            "justify_items": null,
            "left": null,
            "margin": null,
            "max_height": null,
            "max_width": null,
            "min_height": null,
            "min_width": null,
            "object_fit": null,
            "object_position": null,
            "order": null,
            "overflow": null,
            "overflow_x": null,
            "overflow_y": null,
            "padding": null,
            "right": null,
            "top": null,
            "visibility": null,
            "width": null
          }
        },
        "38c49c394b6b498697b8b87ad1173db7": {
          "model_module": "@jupyter-widgets/controls",
          "model_name": "ProgressStyleModel",
          "model_module_version": "1.5.0",
          "state": {
            "_model_module": "@jupyter-widgets/controls",
            "_model_module_version": "1.5.0",
            "_model_name": "ProgressStyleModel",
            "_view_count": null,
            "_view_module": "@jupyter-widgets/base",
            "_view_module_version": "1.2.0",
            "_view_name": "StyleView",
            "bar_color": null,
            "description_width": ""
          }
        },
        "45d14372cd5547849cd2e3e7b3712ca0": {
          "model_module": "@jupyter-widgets/base",
          "model_name": "LayoutModel",
          "model_module_version": "1.2.0",
          "state": {
            "_model_module": "@jupyter-widgets/base",
            "_model_module_version": "1.2.0",
            "_model_name": "LayoutModel",
            "_view_count": null,
            "_view_module": "@jupyter-widgets/base",
            "_view_module_version": "1.2.0",
            "_view_name": "LayoutView",
            "align_content": null,
            "align_items": null,
            "align_self": null,
            "border": null,
            "bottom": null,
            "display": null,
            "flex": null,
            "flex_flow": null,
            "grid_area": null,
            "grid_auto_columns": null,
            "grid_auto_flow": null,
            "grid_auto_rows": null,
            "grid_column": null,
            "grid_gap": null,
            "grid_row": null,
            "grid_template_areas": null,
            "grid_template_columns": null,
            "grid_template_rows": null,
            "height": null,
            "justify_content": null,
            "justify_items": null,
            "left": null,
            "margin": null,
            "max_height": null,
            "max_width": null,
            "min_height": null,
            "min_width": null,
            "object_fit": null,
            "object_position": null,
            "order": null,
            "overflow": null,
            "overflow_x": null,
            "overflow_y": null,
            "padding": null,
            "right": null,
            "top": null,
            "visibility": null,
            "width": null
          }
        },
        "f73399c63d1549ad923001a91fda3373": {
          "model_module": "@jupyter-widgets/controls",
          "model_name": "DescriptionStyleModel",
          "model_module_version": "1.5.0",
          "state": {
            "_model_module": "@jupyter-widgets/controls",
            "_model_module_version": "1.5.0",
            "_model_name": "DescriptionStyleModel",
            "_view_count": null,
            "_view_module": "@jupyter-widgets/base",
            "_view_module_version": "1.2.0",
            "_view_name": "StyleView",
            "description_width": ""
          }
        }
      }
    }
  },
  "cells": [
    {
      "cell_type": "markdown",
      "metadata": {
        "id": "view-in-github",
        "colab_type": "text"
      },
      "source": [
        "<a href=\"https://colab.research.google.com/github/AndriiShvahuliak/Deep-Learning-Foundation/blob/main/DeepLearningFoundation_using_PyTorch_and_PyTorch_lightning.ipynb\" target=\"_parent\"><img src=\"https://colab.research.google.com/assets/colab-badge.svg\" alt=\"Open In Colab\"/></a>"
      ]
    },
    {
      "cell_type": "markdown",
      "source": [
        "# Deep Learning Foundation using PyTorch and PyTorch lightning"
      ],
      "metadata": {
        "id": "5bxuebdCzPjJ"
      }
    },
    {
      "cell_type": "markdown",
      "source": [
        "## 1. Data import and exploration\n",
        "\n",
        "\n"
      ],
      "metadata": {
        "id": "kdPIeS-FQWpE"
      }
    },
    {
      "cell_type": "code",
      "source": [
        "# install pytorch lightning\n",
        "!pip install pytorch_lightning"
      ],
      "metadata": {
        "colab": {
          "base_uri": "https://localhost:8080/"
        },
        "id": "U7Hp_FcoIaqH",
        "outputId": "3d4b56e7-aadf-4595-8b36-8d2d8cad90ae"
      },
      "execution_count": null,
      "outputs": [
        {
          "output_type": "stream",
          "name": "stdout",
          "text": [
            "Collecting pytorch_lightning\n",
            "  Downloading pytorch_lightning-2.5.0.post0-py3-none-any.whl.metadata (21 kB)\n",
            "Requirement already satisfied: torch>=2.1.0 in /usr/local/lib/python3.10/dist-packages (from pytorch_lightning) (2.5.1+cu121)\n",
            "Requirement already satisfied: tqdm>=4.57.0 in /usr/local/lib/python3.10/dist-packages (from pytorch_lightning) (4.67.1)\n",
            "Requirement already satisfied: PyYAML>=5.4 in /usr/local/lib/python3.10/dist-packages (from pytorch_lightning) (6.0.2)\n",
            "Requirement already satisfied: fsspec>=2022.5.0 in /usr/local/lib/python3.10/dist-packages (from fsspec[http]>=2022.5.0->pytorch_lightning) (2024.10.0)\n",
            "Collecting torchmetrics>=0.7.0 (from pytorch_lightning)\n",
            "  Downloading torchmetrics-1.6.1-py3-none-any.whl.metadata (21 kB)\n",
            "Requirement already satisfied: packaging>=20.0 in /usr/local/lib/python3.10/dist-packages (from pytorch_lightning) (24.2)\n",
            "Requirement already satisfied: typing-extensions>=4.4.0 in /usr/local/lib/python3.10/dist-packages (from pytorch_lightning) (4.12.2)\n",
            "Collecting lightning-utilities>=0.10.0 (from pytorch_lightning)\n",
            "  Downloading lightning_utilities-0.11.9-py3-none-any.whl.metadata (5.2 kB)\n",
            "Requirement already satisfied: aiohttp!=4.0.0a0,!=4.0.0a1 in /usr/local/lib/python3.10/dist-packages (from fsspec[http]>=2022.5.0->pytorch_lightning) (3.11.10)\n",
            "Requirement already satisfied: setuptools in /usr/local/lib/python3.10/dist-packages (from lightning-utilities>=0.10.0->pytorch_lightning) (75.1.0)\n",
            "Requirement already satisfied: filelock in /usr/local/lib/python3.10/dist-packages (from torch>=2.1.0->pytorch_lightning) (3.16.1)\n",
            "Requirement already satisfied: networkx in /usr/local/lib/python3.10/dist-packages (from torch>=2.1.0->pytorch_lightning) (3.4.2)\n",
            "Requirement already satisfied: jinja2 in /usr/local/lib/python3.10/dist-packages (from torch>=2.1.0->pytorch_lightning) (3.1.4)\n",
            "Requirement already satisfied: sympy==1.13.1 in /usr/local/lib/python3.10/dist-packages (from torch>=2.1.0->pytorch_lightning) (1.13.1)\n",
            "Requirement already satisfied: mpmath<1.4,>=1.1.0 in /usr/local/lib/python3.10/dist-packages (from sympy==1.13.1->torch>=2.1.0->pytorch_lightning) (1.3.0)\n",
            "Requirement already satisfied: numpy>1.20.0 in /usr/local/lib/python3.10/dist-packages (from torchmetrics>=0.7.0->pytorch_lightning) (1.26.4)\n",
            "Requirement already satisfied: aiohappyeyeballs>=2.3.0 in /usr/local/lib/python3.10/dist-packages (from aiohttp!=4.0.0a0,!=4.0.0a1->fsspec[http]>=2022.5.0->pytorch_lightning) (2.4.4)\n",
            "Requirement already satisfied: aiosignal>=1.1.2 in /usr/local/lib/python3.10/dist-packages (from aiohttp!=4.0.0a0,!=4.0.0a1->fsspec[http]>=2022.5.0->pytorch_lightning) (1.3.2)\n",
            "Requirement already satisfied: async-timeout<6.0,>=4.0 in /usr/local/lib/python3.10/dist-packages (from aiohttp!=4.0.0a0,!=4.0.0a1->fsspec[http]>=2022.5.0->pytorch_lightning) (4.0.3)\n",
            "Requirement already satisfied: attrs>=17.3.0 in /usr/local/lib/python3.10/dist-packages (from aiohttp!=4.0.0a0,!=4.0.0a1->fsspec[http]>=2022.5.0->pytorch_lightning) (24.3.0)\n",
            "Requirement already satisfied: frozenlist>=1.1.1 in /usr/local/lib/python3.10/dist-packages (from aiohttp!=4.0.0a0,!=4.0.0a1->fsspec[http]>=2022.5.0->pytorch_lightning) (1.5.0)\n",
            "Requirement already satisfied: multidict<7.0,>=4.5 in /usr/local/lib/python3.10/dist-packages (from aiohttp!=4.0.0a0,!=4.0.0a1->fsspec[http]>=2022.5.0->pytorch_lightning) (6.1.0)\n",
            "Requirement already satisfied: propcache>=0.2.0 in /usr/local/lib/python3.10/dist-packages (from aiohttp!=4.0.0a0,!=4.0.0a1->fsspec[http]>=2022.5.0->pytorch_lightning) (0.2.1)\n",
            "Requirement already satisfied: yarl<2.0,>=1.17.0 in /usr/local/lib/python3.10/dist-packages (from aiohttp!=4.0.0a0,!=4.0.0a1->fsspec[http]>=2022.5.0->pytorch_lightning) (1.18.3)\n",
            "Requirement already satisfied: MarkupSafe>=2.0 in /usr/local/lib/python3.10/dist-packages (from jinja2->torch>=2.1.0->pytorch_lightning) (3.0.2)\n",
            "Requirement already satisfied: idna>=2.0 in /usr/local/lib/python3.10/dist-packages (from yarl<2.0,>=1.17.0->aiohttp!=4.0.0a0,!=4.0.0a1->fsspec[http]>=2022.5.0->pytorch_lightning) (3.10)\n",
            "Downloading pytorch_lightning-2.5.0.post0-py3-none-any.whl (819 kB)\n",
            "\u001b[2K   \u001b[90m━━━━━━━━━━━━━━━━━━━━━━━━━━━━━━━━━━━━━━━━\u001b[0m \u001b[32m819.3/819.3 kB\u001b[0m \u001b[31m17.6 MB/s\u001b[0m eta \u001b[36m0:00:00\u001b[0m\n",
            "\u001b[?25hDownloading lightning_utilities-0.11.9-py3-none-any.whl (28 kB)\n",
            "Downloading torchmetrics-1.6.1-py3-none-any.whl (927 kB)\n",
            "\u001b[2K   \u001b[90m━━━━━━━━━━━━━━━━━━━━━━━━━━━━━━━━━━━━━━━━\u001b[0m \u001b[32m927.3/927.3 kB\u001b[0m \u001b[31m18.7 MB/s\u001b[0m eta \u001b[36m0:00:00\u001b[0m\n",
            "\u001b[?25hInstalling collected packages: lightning-utilities, torchmetrics, pytorch_lightning\n",
            "Successfully installed lightning-utilities-0.11.9 pytorch_lightning-2.5.0.post0 torchmetrics-1.6.1\n"
          ]
        }
      ]
    },
    {
      "cell_type": "code",
      "source": [
        "import pandas as pd\n",
        "import numpy as np\n",
        "import matplotlib.pyplot as plt\n",
        "import seaborn as sns\n",
        "import torch\n",
        "import torch.nn as nn\n",
        "import torch.nn.functional as F\n",
        "from pytorch_lightning.callbacks import ModelCheckpoint\n",
        "from pytorch_lightning import LightningModule\n",
        "import pytorch_lightning as pl\n",
        "from sklearn.model_selection import train_test_split\n",
        "from sklearn.preprocessing import StandardScaler, RobustScaler, MinMaxScaler\n",
        "from torch.utils.data import DataLoader, TensorDataset, random_split\n",
        "from imblearn.over_sampling import RandomOverSampler\n",
        "from tqdm.auto import tqdm\n",
        "from timeit import default_timer as timer\n",
        "torch.manual_seed(42)\n",
        "np.random.seed(42)"
      ],
      "metadata": {
        "id": "sjXnbEQU05Tj"
      },
      "execution_count": null,
      "outputs": []
    },
    {
      "cell_type": "code",
      "source": [
        "# let's import the dataset\n",
        "col_names = ['Pregnancies', 'Glucose', 'BloodPressure', 'SkinThickness',\n",
        "'Insulin', 'BMI', 'DiabetesPedigreeFunction', 'Age', 'Outcome']\n",
        "url = \"https://raw.githubusercontent.com/jbrownlee/Datasets/master/pima-indians-diabetes.data.csv\"\n",
        "df = pd.read_csv(url, header=None, names=col_names)"
      ],
      "metadata": {
        "id": "oJX2BNbzzmGr"
      },
      "execution_count": null,
      "outputs": []
    },
    {
      "cell_type": "code",
      "source": [
        "df"
      ],
      "metadata": {
        "colab": {
          "base_uri": "https://localhost:8080/",
          "height": 424
        },
        "id": "NNYAu960zyUa",
        "outputId": "b72ab41f-9b8f-4a5c-f6f4-46a776797b0e"
      },
      "execution_count": null,
      "outputs": [
        {
          "output_type": "execute_result",
          "data": {
            "text/plain": [
              "     Pregnancies  Glucose  BloodPressure  SkinThickness  Insulin   BMI  \\\n",
              "0              6      148             72             35        0  33.6   \n",
              "1              1       85             66             29        0  26.6   \n",
              "2              8      183             64              0        0  23.3   \n",
              "3              1       89             66             23       94  28.1   \n",
              "4              0      137             40             35      168  43.1   \n",
              "..           ...      ...            ...            ...      ...   ...   \n",
              "763           10      101             76             48      180  32.9   \n",
              "764            2      122             70             27        0  36.8   \n",
              "765            5      121             72             23      112  26.2   \n",
              "766            1      126             60              0        0  30.1   \n",
              "767            1       93             70             31        0  30.4   \n",
              "\n",
              "     DiabetesPedigreeFunction  Age  Outcome  \n",
              "0                       0.627   50        1  \n",
              "1                       0.351   31        0  \n",
              "2                       0.672   32        1  \n",
              "3                       0.167   21        0  \n",
              "4                       2.288   33        1  \n",
              "..                        ...  ...      ...  \n",
              "763                     0.171   63        0  \n",
              "764                     0.340   27        0  \n",
              "765                     0.245   30        0  \n",
              "766                     0.349   47        1  \n",
              "767                     0.315   23        0  \n",
              "\n",
              "[768 rows x 9 columns]"
            ],
            "text/html": [
              "\n",
              "  <div id=\"df-04cc0e83-7de8-4293-a044-854b9a91e832\" class=\"colab-df-container\">\n",
              "    <div>\n",
              "<style scoped>\n",
              "    .dataframe tbody tr th:only-of-type {\n",
              "        vertical-align: middle;\n",
              "    }\n",
              "\n",
              "    .dataframe tbody tr th {\n",
              "        vertical-align: top;\n",
              "    }\n",
              "\n",
              "    .dataframe thead th {\n",
              "        text-align: right;\n",
              "    }\n",
              "</style>\n",
              "<table border=\"1\" class=\"dataframe\">\n",
              "  <thead>\n",
              "    <tr style=\"text-align: right;\">\n",
              "      <th></th>\n",
              "      <th>Pregnancies</th>\n",
              "      <th>Glucose</th>\n",
              "      <th>BloodPressure</th>\n",
              "      <th>SkinThickness</th>\n",
              "      <th>Insulin</th>\n",
              "      <th>BMI</th>\n",
              "      <th>DiabetesPedigreeFunction</th>\n",
              "      <th>Age</th>\n",
              "      <th>Outcome</th>\n",
              "    </tr>\n",
              "  </thead>\n",
              "  <tbody>\n",
              "    <tr>\n",
              "      <th>0</th>\n",
              "      <td>6</td>\n",
              "      <td>148</td>\n",
              "      <td>72</td>\n",
              "      <td>35</td>\n",
              "      <td>0</td>\n",
              "      <td>33.6</td>\n",
              "      <td>0.627</td>\n",
              "      <td>50</td>\n",
              "      <td>1</td>\n",
              "    </tr>\n",
              "    <tr>\n",
              "      <th>1</th>\n",
              "      <td>1</td>\n",
              "      <td>85</td>\n",
              "      <td>66</td>\n",
              "      <td>29</td>\n",
              "      <td>0</td>\n",
              "      <td>26.6</td>\n",
              "      <td>0.351</td>\n",
              "      <td>31</td>\n",
              "      <td>0</td>\n",
              "    </tr>\n",
              "    <tr>\n",
              "      <th>2</th>\n",
              "      <td>8</td>\n",
              "      <td>183</td>\n",
              "      <td>64</td>\n",
              "      <td>0</td>\n",
              "      <td>0</td>\n",
              "      <td>23.3</td>\n",
              "      <td>0.672</td>\n",
              "      <td>32</td>\n",
              "      <td>1</td>\n",
              "    </tr>\n",
              "    <tr>\n",
              "      <th>3</th>\n",
              "      <td>1</td>\n",
              "      <td>89</td>\n",
              "      <td>66</td>\n",
              "      <td>23</td>\n",
              "      <td>94</td>\n",
              "      <td>28.1</td>\n",
              "      <td>0.167</td>\n",
              "      <td>21</td>\n",
              "      <td>0</td>\n",
              "    </tr>\n",
              "    <tr>\n",
              "      <th>4</th>\n",
              "      <td>0</td>\n",
              "      <td>137</td>\n",
              "      <td>40</td>\n",
              "      <td>35</td>\n",
              "      <td>168</td>\n",
              "      <td>43.1</td>\n",
              "      <td>2.288</td>\n",
              "      <td>33</td>\n",
              "      <td>1</td>\n",
              "    </tr>\n",
              "    <tr>\n",
              "      <th>...</th>\n",
              "      <td>...</td>\n",
              "      <td>...</td>\n",
              "      <td>...</td>\n",
              "      <td>...</td>\n",
              "      <td>...</td>\n",
              "      <td>...</td>\n",
              "      <td>...</td>\n",
              "      <td>...</td>\n",
              "      <td>...</td>\n",
              "    </tr>\n",
              "    <tr>\n",
              "      <th>763</th>\n",
              "      <td>10</td>\n",
              "      <td>101</td>\n",
              "      <td>76</td>\n",
              "      <td>48</td>\n",
              "      <td>180</td>\n",
              "      <td>32.9</td>\n",
              "      <td>0.171</td>\n",
              "      <td>63</td>\n",
              "      <td>0</td>\n",
              "    </tr>\n",
              "    <tr>\n",
              "      <th>764</th>\n",
              "      <td>2</td>\n",
              "      <td>122</td>\n",
              "      <td>70</td>\n",
              "      <td>27</td>\n",
              "      <td>0</td>\n",
              "      <td>36.8</td>\n",
              "      <td>0.340</td>\n",
              "      <td>27</td>\n",
              "      <td>0</td>\n",
              "    </tr>\n",
              "    <tr>\n",
              "      <th>765</th>\n",
              "      <td>5</td>\n",
              "      <td>121</td>\n",
              "      <td>72</td>\n",
              "      <td>23</td>\n",
              "      <td>112</td>\n",
              "      <td>26.2</td>\n",
              "      <td>0.245</td>\n",
              "      <td>30</td>\n",
              "      <td>0</td>\n",
              "    </tr>\n",
              "    <tr>\n",
              "      <th>766</th>\n",
              "      <td>1</td>\n",
              "      <td>126</td>\n",
              "      <td>60</td>\n",
              "      <td>0</td>\n",
              "      <td>0</td>\n",
              "      <td>30.1</td>\n",
              "      <td>0.349</td>\n",
              "      <td>47</td>\n",
              "      <td>1</td>\n",
              "    </tr>\n",
              "    <tr>\n",
              "      <th>767</th>\n",
              "      <td>1</td>\n",
              "      <td>93</td>\n",
              "      <td>70</td>\n",
              "      <td>31</td>\n",
              "      <td>0</td>\n",
              "      <td>30.4</td>\n",
              "      <td>0.315</td>\n",
              "      <td>23</td>\n",
              "      <td>0</td>\n",
              "    </tr>\n",
              "  </tbody>\n",
              "</table>\n",
              "<p>768 rows × 9 columns</p>\n",
              "</div>\n",
              "    <div class=\"colab-df-buttons\">\n",
              "\n",
              "  <div class=\"colab-df-container\">\n",
              "    <button class=\"colab-df-convert\" onclick=\"convertToInteractive('df-04cc0e83-7de8-4293-a044-854b9a91e832')\"\n",
              "            title=\"Convert this dataframe to an interactive table.\"\n",
              "            style=\"display:none;\">\n",
              "\n",
              "  <svg xmlns=\"http://www.w3.org/2000/svg\" height=\"24px\" viewBox=\"0 -960 960 960\">\n",
              "    <path d=\"M120-120v-720h720v720H120Zm60-500h600v-160H180v160Zm220 220h160v-160H400v160Zm0 220h160v-160H400v160ZM180-400h160v-160H180v160Zm440 0h160v-160H620v160ZM180-180h160v-160H180v160Zm440 0h160v-160H620v160Z\"/>\n",
              "  </svg>\n",
              "    </button>\n",
              "\n",
              "  <style>\n",
              "    .colab-df-container {\n",
              "      display:flex;\n",
              "      gap: 12px;\n",
              "    }\n",
              "\n",
              "    .colab-df-convert {\n",
              "      background-color: #E8F0FE;\n",
              "      border: none;\n",
              "      border-radius: 50%;\n",
              "      cursor: pointer;\n",
              "      display: none;\n",
              "      fill: #1967D2;\n",
              "      height: 32px;\n",
              "      padding: 0 0 0 0;\n",
              "      width: 32px;\n",
              "    }\n",
              "\n",
              "    .colab-df-convert:hover {\n",
              "      background-color: #E2EBFA;\n",
              "      box-shadow: 0px 1px 2px rgba(60, 64, 67, 0.3), 0px 1px 3px 1px rgba(60, 64, 67, 0.15);\n",
              "      fill: #174EA6;\n",
              "    }\n",
              "\n",
              "    .colab-df-buttons div {\n",
              "      margin-bottom: 4px;\n",
              "    }\n",
              "\n",
              "    [theme=dark] .colab-df-convert {\n",
              "      background-color: #3B4455;\n",
              "      fill: #D2E3FC;\n",
              "    }\n",
              "\n",
              "    [theme=dark] .colab-df-convert:hover {\n",
              "      background-color: #434B5C;\n",
              "      box-shadow: 0px 1px 3px 1px rgba(0, 0, 0, 0.15);\n",
              "      filter: drop-shadow(0px 1px 2px rgba(0, 0, 0, 0.3));\n",
              "      fill: #FFFFFF;\n",
              "    }\n",
              "  </style>\n",
              "\n",
              "    <script>\n",
              "      const buttonEl =\n",
              "        document.querySelector('#df-04cc0e83-7de8-4293-a044-854b9a91e832 button.colab-df-convert');\n",
              "      buttonEl.style.display =\n",
              "        google.colab.kernel.accessAllowed ? 'block' : 'none';\n",
              "\n",
              "      async function convertToInteractive(key) {\n",
              "        const element = document.querySelector('#df-04cc0e83-7de8-4293-a044-854b9a91e832');\n",
              "        const dataTable =\n",
              "          await google.colab.kernel.invokeFunction('convertToInteractive',\n",
              "                                                    [key], {});\n",
              "        if (!dataTable) return;\n",
              "\n",
              "        const docLinkHtml = 'Like what you see? Visit the ' +\n",
              "          '<a target=\"_blank\" href=https://colab.research.google.com/notebooks/data_table.ipynb>data table notebook</a>'\n",
              "          + ' to learn more about interactive tables.';\n",
              "        element.innerHTML = '';\n",
              "        dataTable['output_type'] = 'display_data';\n",
              "        await google.colab.output.renderOutput(dataTable, element);\n",
              "        const docLink = document.createElement('div');\n",
              "        docLink.innerHTML = docLinkHtml;\n",
              "        element.appendChild(docLink);\n",
              "      }\n",
              "    </script>\n",
              "  </div>\n",
              "\n",
              "\n",
              "<div id=\"df-8795af32-9ff9-4e70-84bc-7a41eff77160\">\n",
              "  <button class=\"colab-df-quickchart\" onclick=\"quickchart('df-8795af32-9ff9-4e70-84bc-7a41eff77160')\"\n",
              "            title=\"Suggest charts\"\n",
              "            style=\"display:none;\">\n",
              "\n",
              "<svg xmlns=\"http://www.w3.org/2000/svg\" height=\"24px\"viewBox=\"0 0 24 24\"\n",
              "     width=\"24px\">\n",
              "    <g>\n",
              "        <path d=\"M19 3H5c-1.1 0-2 .9-2 2v14c0 1.1.9 2 2 2h14c1.1 0 2-.9 2-2V5c0-1.1-.9-2-2-2zM9 17H7v-7h2v7zm4 0h-2V7h2v10zm4 0h-2v-4h2v4z\"/>\n",
              "    </g>\n",
              "</svg>\n",
              "  </button>\n",
              "\n",
              "<style>\n",
              "  .colab-df-quickchart {\n",
              "      --bg-color: #E8F0FE;\n",
              "      --fill-color: #1967D2;\n",
              "      --hover-bg-color: #E2EBFA;\n",
              "      --hover-fill-color: #174EA6;\n",
              "      --disabled-fill-color: #AAA;\n",
              "      --disabled-bg-color: #DDD;\n",
              "  }\n",
              "\n",
              "  [theme=dark] .colab-df-quickchart {\n",
              "      --bg-color: #3B4455;\n",
              "      --fill-color: #D2E3FC;\n",
              "      --hover-bg-color: #434B5C;\n",
              "      --hover-fill-color: #FFFFFF;\n",
              "      --disabled-bg-color: #3B4455;\n",
              "      --disabled-fill-color: #666;\n",
              "  }\n",
              "\n",
              "  .colab-df-quickchart {\n",
              "    background-color: var(--bg-color);\n",
              "    border: none;\n",
              "    border-radius: 50%;\n",
              "    cursor: pointer;\n",
              "    display: none;\n",
              "    fill: var(--fill-color);\n",
              "    height: 32px;\n",
              "    padding: 0;\n",
              "    width: 32px;\n",
              "  }\n",
              "\n",
              "  .colab-df-quickchart:hover {\n",
              "    background-color: var(--hover-bg-color);\n",
              "    box-shadow: 0 1px 2px rgba(60, 64, 67, 0.3), 0 1px 3px 1px rgba(60, 64, 67, 0.15);\n",
              "    fill: var(--button-hover-fill-color);\n",
              "  }\n",
              "\n",
              "  .colab-df-quickchart-complete:disabled,\n",
              "  .colab-df-quickchart-complete:disabled:hover {\n",
              "    background-color: var(--disabled-bg-color);\n",
              "    fill: var(--disabled-fill-color);\n",
              "    box-shadow: none;\n",
              "  }\n",
              "\n",
              "  .colab-df-spinner {\n",
              "    border: 2px solid var(--fill-color);\n",
              "    border-color: transparent;\n",
              "    border-bottom-color: var(--fill-color);\n",
              "    animation:\n",
              "      spin 1s steps(1) infinite;\n",
              "  }\n",
              "\n",
              "  @keyframes spin {\n",
              "    0% {\n",
              "      border-color: transparent;\n",
              "      border-bottom-color: var(--fill-color);\n",
              "      border-left-color: var(--fill-color);\n",
              "    }\n",
              "    20% {\n",
              "      border-color: transparent;\n",
              "      border-left-color: var(--fill-color);\n",
              "      border-top-color: var(--fill-color);\n",
              "    }\n",
              "    30% {\n",
              "      border-color: transparent;\n",
              "      border-left-color: var(--fill-color);\n",
              "      border-top-color: var(--fill-color);\n",
              "      border-right-color: var(--fill-color);\n",
              "    }\n",
              "    40% {\n",
              "      border-color: transparent;\n",
              "      border-right-color: var(--fill-color);\n",
              "      border-top-color: var(--fill-color);\n",
              "    }\n",
              "    60% {\n",
              "      border-color: transparent;\n",
              "      border-right-color: var(--fill-color);\n",
              "    }\n",
              "    80% {\n",
              "      border-color: transparent;\n",
              "      border-right-color: var(--fill-color);\n",
              "      border-bottom-color: var(--fill-color);\n",
              "    }\n",
              "    90% {\n",
              "      border-color: transparent;\n",
              "      border-bottom-color: var(--fill-color);\n",
              "    }\n",
              "  }\n",
              "</style>\n",
              "\n",
              "  <script>\n",
              "    async function quickchart(key) {\n",
              "      const quickchartButtonEl =\n",
              "        document.querySelector('#' + key + ' button');\n",
              "      quickchartButtonEl.disabled = true;  // To prevent multiple clicks.\n",
              "      quickchartButtonEl.classList.add('colab-df-spinner');\n",
              "      try {\n",
              "        const charts = await google.colab.kernel.invokeFunction(\n",
              "            'suggestCharts', [key], {});\n",
              "      } catch (error) {\n",
              "        console.error('Error during call to suggestCharts:', error);\n",
              "      }\n",
              "      quickchartButtonEl.classList.remove('colab-df-spinner');\n",
              "      quickchartButtonEl.classList.add('colab-df-quickchart-complete');\n",
              "    }\n",
              "    (() => {\n",
              "      let quickchartButtonEl =\n",
              "        document.querySelector('#df-8795af32-9ff9-4e70-84bc-7a41eff77160 button');\n",
              "      quickchartButtonEl.style.display =\n",
              "        google.colab.kernel.accessAllowed ? 'block' : 'none';\n",
              "    })();\n",
              "  </script>\n",
              "</div>\n",
              "    </div>\n",
              "  </div>\n"
            ],
            "application/vnd.google.colaboratory.intrinsic+json": {
              "type": "dataframe",
              "variable_name": "df",
              "summary": "{\n  \"name\": \"df\",\n  \"rows\": 768,\n  \"fields\": [\n    {\n      \"column\": \"Pregnancies\",\n      \"properties\": {\n        \"dtype\": \"number\",\n        \"std\": 3,\n        \"min\": 0,\n        \"max\": 17,\n        \"num_unique_values\": 17,\n        \"samples\": [\n          6,\n          1,\n          3\n        ],\n        \"semantic_type\": \"\",\n        \"description\": \"\"\n      }\n    },\n    {\n      \"column\": \"Glucose\",\n      \"properties\": {\n        \"dtype\": \"number\",\n        \"std\": 31,\n        \"min\": 0,\n        \"max\": 199,\n        \"num_unique_values\": 136,\n        \"samples\": [\n          151,\n          101,\n          112\n        ],\n        \"semantic_type\": \"\",\n        \"description\": \"\"\n      }\n    },\n    {\n      \"column\": \"BloodPressure\",\n      \"properties\": {\n        \"dtype\": \"number\",\n        \"std\": 19,\n        \"min\": 0,\n        \"max\": 122,\n        \"num_unique_values\": 47,\n        \"samples\": [\n          86,\n          46,\n          85\n        ],\n        \"semantic_type\": \"\",\n        \"description\": \"\"\n      }\n    },\n    {\n      \"column\": \"SkinThickness\",\n      \"properties\": {\n        \"dtype\": \"number\",\n        \"std\": 15,\n        \"min\": 0,\n        \"max\": 99,\n        \"num_unique_values\": 51,\n        \"samples\": [\n          7,\n          12,\n          48\n        ],\n        \"semantic_type\": \"\",\n        \"description\": \"\"\n      }\n    },\n    {\n      \"column\": \"Insulin\",\n      \"properties\": {\n        \"dtype\": \"number\",\n        \"std\": 115,\n        \"min\": 0,\n        \"max\": 846,\n        \"num_unique_values\": 186,\n        \"samples\": [\n          52,\n          41,\n          183\n        ],\n        \"semantic_type\": \"\",\n        \"description\": \"\"\n      }\n    },\n    {\n      \"column\": \"BMI\",\n      \"properties\": {\n        \"dtype\": \"number\",\n        \"std\": 7.8841603203754405,\n        \"min\": 0.0,\n        \"max\": 67.1,\n        \"num_unique_values\": 248,\n        \"samples\": [\n          19.9,\n          31.0,\n          38.1\n        ],\n        \"semantic_type\": \"\",\n        \"description\": \"\"\n      }\n    },\n    {\n      \"column\": \"DiabetesPedigreeFunction\",\n      \"properties\": {\n        \"dtype\": \"number\",\n        \"std\": 0.33132859501277484,\n        \"min\": 0.078,\n        \"max\": 2.42,\n        \"num_unique_values\": 517,\n        \"samples\": [\n          1.731,\n          0.426,\n          0.138\n        ],\n        \"semantic_type\": \"\",\n        \"description\": \"\"\n      }\n    },\n    {\n      \"column\": \"Age\",\n      \"properties\": {\n        \"dtype\": \"number\",\n        \"std\": 11,\n        \"min\": 21,\n        \"max\": 81,\n        \"num_unique_values\": 52,\n        \"samples\": [\n          60,\n          47,\n          72\n        ],\n        \"semantic_type\": \"\",\n        \"description\": \"\"\n      }\n    },\n    {\n      \"column\": \"Outcome\",\n      \"properties\": {\n        \"dtype\": \"number\",\n        \"std\": 0,\n        \"min\": 0,\n        \"max\": 1,\n        \"num_unique_values\": 2,\n        \"samples\": [\n          0,\n          1\n        ],\n        \"semantic_type\": \"\",\n        \"description\": \"\"\n      }\n    }\n  ]\n}"
            }
          },
          "metadata": {},
          "execution_count": 4
        }
      ]
    },
    {
      "cell_type": "code",
      "source": [
        "df.describe()"
      ],
      "metadata": {
        "colab": {
          "base_uri": "https://localhost:8080/",
          "height": 300
        },
        "id": "cWL5QUTCEfSa",
        "outputId": "66301027-a9a5-4e8b-f1f5-549775349a90"
      },
      "execution_count": null,
      "outputs": [
        {
          "output_type": "execute_result",
          "data": {
            "text/plain": [
              "       Pregnancies     Glucose  BloodPressure  SkinThickness     Insulin  \\\n",
              "count   768.000000  768.000000     768.000000     768.000000  768.000000   \n",
              "mean      3.845052  120.894531      69.105469      20.536458   79.799479   \n",
              "std       3.369578   31.972618      19.355807      15.952218  115.244002   \n",
              "min       0.000000    0.000000       0.000000       0.000000    0.000000   \n",
              "25%       1.000000   99.000000      62.000000       0.000000    0.000000   \n",
              "50%       3.000000  117.000000      72.000000      23.000000   30.500000   \n",
              "75%       6.000000  140.250000      80.000000      32.000000  127.250000   \n",
              "max      17.000000  199.000000     122.000000      99.000000  846.000000   \n",
              "\n",
              "              BMI  DiabetesPedigreeFunction         Age     Outcome  \n",
              "count  768.000000                768.000000  768.000000  768.000000  \n",
              "mean    31.992578                  0.471876   33.240885    0.348958  \n",
              "std      7.884160                  0.331329   11.760232    0.476951  \n",
              "min      0.000000                  0.078000   21.000000    0.000000  \n",
              "25%     27.300000                  0.243750   24.000000    0.000000  \n",
              "50%     32.000000                  0.372500   29.000000    0.000000  \n",
              "75%     36.600000                  0.626250   41.000000    1.000000  \n",
              "max     67.100000                  2.420000   81.000000    1.000000  "
            ],
            "text/html": [
              "\n",
              "  <div id=\"df-8d9bcbc2-116f-4069-aaf0-04819bc4ee86\" class=\"colab-df-container\">\n",
              "    <div>\n",
              "<style scoped>\n",
              "    .dataframe tbody tr th:only-of-type {\n",
              "        vertical-align: middle;\n",
              "    }\n",
              "\n",
              "    .dataframe tbody tr th {\n",
              "        vertical-align: top;\n",
              "    }\n",
              "\n",
              "    .dataframe thead th {\n",
              "        text-align: right;\n",
              "    }\n",
              "</style>\n",
              "<table border=\"1\" class=\"dataframe\">\n",
              "  <thead>\n",
              "    <tr style=\"text-align: right;\">\n",
              "      <th></th>\n",
              "      <th>Pregnancies</th>\n",
              "      <th>Glucose</th>\n",
              "      <th>BloodPressure</th>\n",
              "      <th>SkinThickness</th>\n",
              "      <th>Insulin</th>\n",
              "      <th>BMI</th>\n",
              "      <th>DiabetesPedigreeFunction</th>\n",
              "      <th>Age</th>\n",
              "      <th>Outcome</th>\n",
              "    </tr>\n",
              "  </thead>\n",
              "  <tbody>\n",
              "    <tr>\n",
              "      <th>count</th>\n",
              "      <td>768.000000</td>\n",
              "      <td>768.000000</td>\n",
              "      <td>768.000000</td>\n",
              "      <td>768.000000</td>\n",
              "      <td>768.000000</td>\n",
              "      <td>768.000000</td>\n",
              "      <td>768.000000</td>\n",
              "      <td>768.000000</td>\n",
              "      <td>768.000000</td>\n",
              "    </tr>\n",
              "    <tr>\n",
              "      <th>mean</th>\n",
              "      <td>3.845052</td>\n",
              "      <td>120.894531</td>\n",
              "      <td>69.105469</td>\n",
              "      <td>20.536458</td>\n",
              "      <td>79.799479</td>\n",
              "      <td>31.992578</td>\n",
              "      <td>0.471876</td>\n",
              "      <td>33.240885</td>\n",
              "      <td>0.348958</td>\n",
              "    </tr>\n",
              "    <tr>\n",
              "      <th>std</th>\n",
              "      <td>3.369578</td>\n",
              "      <td>31.972618</td>\n",
              "      <td>19.355807</td>\n",
              "      <td>15.952218</td>\n",
              "      <td>115.244002</td>\n",
              "      <td>7.884160</td>\n",
              "      <td>0.331329</td>\n",
              "      <td>11.760232</td>\n",
              "      <td>0.476951</td>\n",
              "    </tr>\n",
              "    <tr>\n",
              "      <th>min</th>\n",
              "      <td>0.000000</td>\n",
              "      <td>0.000000</td>\n",
              "      <td>0.000000</td>\n",
              "      <td>0.000000</td>\n",
              "      <td>0.000000</td>\n",
              "      <td>0.000000</td>\n",
              "      <td>0.078000</td>\n",
              "      <td>21.000000</td>\n",
              "      <td>0.000000</td>\n",
              "    </tr>\n",
              "    <tr>\n",
              "      <th>25%</th>\n",
              "      <td>1.000000</td>\n",
              "      <td>99.000000</td>\n",
              "      <td>62.000000</td>\n",
              "      <td>0.000000</td>\n",
              "      <td>0.000000</td>\n",
              "      <td>27.300000</td>\n",
              "      <td>0.243750</td>\n",
              "      <td>24.000000</td>\n",
              "      <td>0.000000</td>\n",
              "    </tr>\n",
              "    <tr>\n",
              "      <th>50%</th>\n",
              "      <td>3.000000</td>\n",
              "      <td>117.000000</td>\n",
              "      <td>72.000000</td>\n",
              "      <td>23.000000</td>\n",
              "      <td>30.500000</td>\n",
              "      <td>32.000000</td>\n",
              "      <td>0.372500</td>\n",
              "      <td>29.000000</td>\n",
              "      <td>0.000000</td>\n",
              "    </tr>\n",
              "    <tr>\n",
              "      <th>75%</th>\n",
              "      <td>6.000000</td>\n",
              "      <td>140.250000</td>\n",
              "      <td>80.000000</td>\n",
              "      <td>32.000000</td>\n",
              "      <td>127.250000</td>\n",
              "      <td>36.600000</td>\n",
              "      <td>0.626250</td>\n",
              "      <td>41.000000</td>\n",
              "      <td>1.000000</td>\n",
              "    </tr>\n",
              "    <tr>\n",
              "      <th>max</th>\n",
              "      <td>17.000000</td>\n",
              "      <td>199.000000</td>\n",
              "      <td>122.000000</td>\n",
              "      <td>99.000000</td>\n",
              "      <td>846.000000</td>\n",
              "      <td>67.100000</td>\n",
              "      <td>2.420000</td>\n",
              "      <td>81.000000</td>\n",
              "      <td>1.000000</td>\n",
              "    </tr>\n",
              "  </tbody>\n",
              "</table>\n",
              "</div>\n",
              "    <div class=\"colab-df-buttons\">\n",
              "\n",
              "  <div class=\"colab-df-container\">\n",
              "    <button class=\"colab-df-convert\" onclick=\"convertToInteractive('df-8d9bcbc2-116f-4069-aaf0-04819bc4ee86')\"\n",
              "            title=\"Convert this dataframe to an interactive table.\"\n",
              "            style=\"display:none;\">\n",
              "\n",
              "  <svg xmlns=\"http://www.w3.org/2000/svg\" height=\"24px\" viewBox=\"0 -960 960 960\">\n",
              "    <path d=\"M120-120v-720h720v720H120Zm60-500h600v-160H180v160Zm220 220h160v-160H400v160Zm0 220h160v-160H400v160ZM180-400h160v-160H180v160Zm440 0h160v-160H620v160ZM180-180h160v-160H180v160Zm440 0h160v-160H620v160Z\"/>\n",
              "  </svg>\n",
              "    </button>\n",
              "\n",
              "  <style>\n",
              "    .colab-df-container {\n",
              "      display:flex;\n",
              "      gap: 12px;\n",
              "    }\n",
              "\n",
              "    .colab-df-convert {\n",
              "      background-color: #E8F0FE;\n",
              "      border: none;\n",
              "      border-radius: 50%;\n",
              "      cursor: pointer;\n",
              "      display: none;\n",
              "      fill: #1967D2;\n",
              "      height: 32px;\n",
              "      padding: 0 0 0 0;\n",
              "      width: 32px;\n",
              "    }\n",
              "\n",
              "    .colab-df-convert:hover {\n",
              "      background-color: #E2EBFA;\n",
              "      box-shadow: 0px 1px 2px rgba(60, 64, 67, 0.3), 0px 1px 3px 1px rgba(60, 64, 67, 0.15);\n",
              "      fill: #174EA6;\n",
              "    }\n",
              "\n",
              "    .colab-df-buttons div {\n",
              "      margin-bottom: 4px;\n",
              "    }\n",
              "\n",
              "    [theme=dark] .colab-df-convert {\n",
              "      background-color: #3B4455;\n",
              "      fill: #D2E3FC;\n",
              "    }\n",
              "\n",
              "    [theme=dark] .colab-df-convert:hover {\n",
              "      background-color: #434B5C;\n",
              "      box-shadow: 0px 1px 3px 1px rgba(0, 0, 0, 0.15);\n",
              "      filter: drop-shadow(0px 1px 2px rgba(0, 0, 0, 0.3));\n",
              "      fill: #FFFFFF;\n",
              "    }\n",
              "  </style>\n",
              "\n",
              "    <script>\n",
              "      const buttonEl =\n",
              "        document.querySelector('#df-8d9bcbc2-116f-4069-aaf0-04819bc4ee86 button.colab-df-convert');\n",
              "      buttonEl.style.display =\n",
              "        google.colab.kernel.accessAllowed ? 'block' : 'none';\n",
              "\n",
              "      async function convertToInteractive(key) {\n",
              "        const element = document.querySelector('#df-8d9bcbc2-116f-4069-aaf0-04819bc4ee86');\n",
              "        const dataTable =\n",
              "          await google.colab.kernel.invokeFunction('convertToInteractive',\n",
              "                                                    [key], {});\n",
              "        if (!dataTable) return;\n",
              "\n",
              "        const docLinkHtml = 'Like what you see? Visit the ' +\n",
              "          '<a target=\"_blank\" href=https://colab.research.google.com/notebooks/data_table.ipynb>data table notebook</a>'\n",
              "          + ' to learn more about interactive tables.';\n",
              "        element.innerHTML = '';\n",
              "        dataTable['output_type'] = 'display_data';\n",
              "        await google.colab.output.renderOutput(dataTable, element);\n",
              "        const docLink = document.createElement('div');\n",
              "        docLink.innerHTML = docLinkHtml;\n",
              "        element.appendChild(docLink);\n",
              "      }\n",
              "    </script>\n",
              "  </div>\n",
              "\n",
              "\n",
              "<div id=\"df-5d0db8d6-59a8-4fbd-a642-fa94cf0e537f\">\n",
              "  <button class=\"colab-df-quickchart\" onclick=\"quickchart('df-5d0db8d6-59a8-4fbd-a642-fa94cf0e537f')\"\n",
              "            title=\"Suggest charts\"\n",
              "            style=\"display:none;\">\n",
              "\n",
              "<svg xmlns=\"http://www.w3.org/2000/svg\" height=\"24px\"viewBox=\"0 0 24 24\"\n",
              "     width=\"24px\">\n",
              "    <g>\n",
              "        <path d=\"M19 3H5c-1.1 0-2 .9-2 2v14c0 1.1.9 2 2 2h14c1.1 0 2-.9 2-2V5c0-1.1-.9-2-2-2zM9 17H7v-7h2v7zm4 0h-2V7h2v10zm4 0h-2v-4h2v4z\"/>\n",
              "    </g>\n",
              "</svg>\n",
              "  </button>\n",
              "\n",
              "<style>\n",
              "  .colab-df-quickchart {\n",
              "      --bg-color: #E8F0FE;\n",
              "      --fill-color: #1967D2;\n",
              "      --hover-bg-color: #E2EBFA;\n",
              "      --hover-fill-color: #174EA6;\n",
              "      --disabled-fill-color: #AAA;\n",
              "      --disabled-bg-color: #DDD;\n",
              "  }\n",
              "\n",
              "  [theme=dark] .colab-df-quickchart {\n",
              "      --bg-color: #3B4455;\n",
              "      --fill-color: #D2E3FC;\n",
              "      --hover-bg-color: #434B5C;\n",
              "      --hover-fill-color: #FFFFFF;\n",
              "      --disabled-bg-color: #3B4455;\n",
              "      --disabled-fill-color: #666;\n",
              "  }\n",
              "\n",
              "  .colab-df-quickchart {\n",
              "    background-color: var(--bg-color);\n",
              "    border: none;\n",
              "    border-radius: 50%;\n",
              "    cursor: pointer;\n",
              "    display: none;\n",
              "    fill: var(--fill-color);\n",
              "    height: 32px;\n",
              "    padding: 0;\n",
              "    width: 32px;\n",
              "  }\n",
              "\n",
              "  .colab-df-quickchart:hover {\n",
              "    background-color: var(--hover-bg-color);\n",
              "    box-shadow: 0 1px 2px rgba(60, 64, 67, 0.3), 0 1px 3px 1px rgba(60, 64, 67, 0.15);\n",
              "    fill: var(--button-hover-fill-color);\n",
              "  }\n",
              "\n",
              "  .colab-df-quickchart-complete:disabled,\n",
              "  .colab-df-quickchart-complete:disabled:hover {\n",
              "    background-color: var(--disabled-bg-color);\n",
              "    fill: var(--disabled-fill-color);\n",
              "    box-shadow: none;\n",
              "  }\n",
              "\n",
              "  .colab-df-spinner {\n",
              "    border: 2px solid var(--fill-color);\n",
              "    border-color: transparent;\n",
              "    border-bottom-color: var(--fill-color);\n",
              "    animation:\n",
              "      spin 1s steps(1) infinite;\n",
              "  }\n",
              "\n",
              "  @keyframes spin {\n",
              "    0% {\n",
              "      border-color: transparent;\n",
              "      border-bottom-color: var(--fill-color);\n",
              "      border-left-color: var(--fill-color);\n",
              "    }\n",
              "    20% {\n",
              "      border-color: transparent;\n",
              "      border-left-color: var(--fill-color);\n",
              "      border-top-color: var(--fill-color);\n",
              "    }\n",
              "    30% {\n",
              "      border-color: transparent;\n",
              "      border-left-color: var(--fill-color);\n",
              "      border-top-color: var(--fill-color);\n",
              "      border-right-color: var(--fill-color);\n",
              "    }\n",
              "    40% {\n",
              "      border-color: transparent;\n",
              "      border-right-color: var(--fill-color);\n",
              "      border-top-color: var(--fill-color);\n",
              "    }\n",
              "    60% {\n",
              "      border-color: transparent;\n",
              "      border-right-color: var(--fill-color);\n",
              "    }\n",
              "    80% {\n",
              "      border-color: transparent;\n",
              "      border-right-color: var(--fill-color);\n",
              "      border-bottom-color: var(--fill-color);\n",
              "    }\n",
              "    90% {\n",
              "      border-color: transparent;\n",
              "      border-bottom-color: var(--fill-color);\n",
              "    }\n",
              "  }\n",
              "</style>\n",
              "\n",
              "  <script>\n",
              "    async function quickchart(key) {\n",
              "      const quickchartButtonEl =\n",
              "        document.querySelector('#' + key + ' button');\n",
              "      quickchartButtonEl.disabled = true;  // To prevent multiple clicks.\n",
              "      quickchartButtonEl.classList.add('colab-df-spinner');\n",
              "      try {\n",
              "        const charts = await google.colab.kernel.invokeFunction(\n",
              "            'suggestCharts', [key], {});\n",
              "      } catch (error) {\n",
              "        console.error('Error during call to suggestCharts:', error);\n",
              "      }\n",
              "      quickchartButtonEl.classList.remove('colab-df-spinner');\n",
              "      quickchartButtonEl.classList.add('colab-df-quickchart-complete');\n",
              "    }\n",
              "    (() => {\n",
              "      let quickchartButtonEl =\n",
              "        document.querySelector('#df-5d0db8d6-59a8-4fbd-a642-fa94cf0e537f button');\n",
              "      quickchartButtonEl.style.display =\n",
              "        google.colab.kernel.accessAllowed ? 'block' : 'none';\n",
              "    })();\n",
              "  </script>\n",
              "</div>\n",
              "    </div>\n",
              "  </div>\n"
            ],
            "application/vnd.google.colaboratory.intrinsic+json": {
              "type": "dataframe",
              "summary": "{\n  \"name\": \"df\",\n  \"rows\": 8,\n  \"fields\": [\n    {\n      \"column\": \"Pregnancies\",\n      \"properties\": {\n        \"dtype\": \"number\",\n        \"std\": 269.85223453356366,\n        \"min\": 0.0,\n        \"max\": 768.0,\n        \"num_unique_values\": 8,\n        \"samples\": [\n          3.8450520833333335,\n          3.0,\n          768.0\n        ],\n        \"semantic_type\": \"\",\n        \"description\": \"\"\n      }\n    },\n    {\n      \"column\": \"Glucose\",\n      \"properties\": {\n        \"dtype\": \"number\",\n        \"std\": 243.73802348295857,\n        \"min\": 0.0,\n        \"max\": 768.0,\n        \"num_unique_values\": 8,\n        \"samples\": [\n          120.89453125,\n          117.0,\n          768.0\n        ],\n        \"semantic_type\": \"\",\n        \"description\": \"\"\n      }\n    },\n    {\n      \"column\": \"BloodPressure\",\n      \"properties\": {\n        \"dtype\": \"number\",\n        \"std\": 252.85250535810619,\n        \"min\": 0.0,\n        \"max\": 768.0,\n        \"num_unique_values\": 8,\n        \"samples\": [\n          69.10546875,\n          72.0,\n          768.0\n        ],\n        \"semantic_type\": \"\",\n        \"description\": \"\"\n      }\n    },\n    {\n      \"column\": \"SkinThickness\",\n      \"properties\": {\n        \"dtype\": \"number\",\n        \"std\": 263.7684730531098,\n        \"min\": 0.0,\n        \"max\": 768.0,\n        \"num_unique_values\": 7,\n        \"samples\": [\n          768.0,\n          20.536458333333332,\n          32.0\n        ],\n        \"semantic_type\": \"\",\n        \"description\": \"\"\n      }\n    },\n    {\n      \"column\": \"Insulin\",\n      \"properties\": {\n        \"dtype\": \"number\",\n        \"std\": 350.26059167945886,\n        \"min\": 0.0,\n        \"max\": 846.0,\n        \"num_unique_values\": 7,\n        \"samples\": [\n          768.0,\n          79.79947916666667,\n          127.25\n        ],\n        \"semantic_type\": \"\",\n        \"description\": \"\"\n      }\n    },\n    {\n      \"column\": \"BMI\",\n      \"properties\": {\n        \"dtype\": \"number\",\n        \"std\": 262.05117817552093,\n        \"min\": 0.0,\n        \"max\": 768.0,\n        \"num_unique_values\": 8,\n        \"samples\": [\n          31.992578124999998,\n          32.0,\n          768.0\n        ],\n        \"semantic_type\": \"\",\n        \"description\": \"\"\n      }\n    },\n    {\n      \"column\": \"DiabetesPedigreeFunction\",\n      \"properties\": {\n        \"dtype\": \"number\",\n        \"std\": 271.3005221658502,\n        \"min\": 0.078,\n        \"max\": 768.0,\n        \"num_unique_values\": 8,\n        \"samples\": [\n          0.47187630208333325,\n          0.3725,\n          768.0\n        ],\n        \"semantic_type\": \"\",\n        \"description\": \"\"\n      }\n    },\n    {\n      \"column\": \"Age\",\n      \"properties\": {\n        \"dtype\": \"number\",\n        \"std\": 260.1941178528413,\n        \"min\": 11.76023154067868,\n        \"max\": 768.0,\n        \"num_unique_values\": 8,\n        \"samples\": [\n          33.240885416666664,\n          29.0,\n          768.0\n        ],\n        \"semantic_type\": \"\",\n        \"description\": \"\"\n      }\n    },\n    {\n      \"column\": \"Outcome\",\n      \"properties\": {\n        \"dtype\": \"number\",\n        \"std\": 271.3865920388932,\n        \"min\": 0.0,\n        \"max\": 768.0,\n        \"num_unique_values\": 5,\n        \"samples\": [\n          0.3489583333333333,\n          1.0,\n          0.4769513772427971\n        ],\n        \"semantic_type\": \"\",\n        \"description\": \"\"\n      }\n    }\n  ]\n}"
            }
          },
          "metadata": {},
          "execution_count": 5
        }
      ]
    },
    {
      "cell_type": "code",
      "source": [
        "df.info()"
      ],
      "metadata": {
        "colab": {
          "base_uri": "https://localhost:8080/"
        },
        "id": "XYSdBPS5Ee1d",
        "outputId": "78d80d86-6d0f-4a49-fd30-1fb83ae9a7ec"
      },
      "execution_count": null,
      "outputs": [
        {
          "output_type": "stream",
          "name": "stdout",
          "text": [
            "<class 'pandas.core.frame.DataFrame'>\n",
            "RangeIndex: 768 entries, 0 to 767\n",
            "Data columns (total 9 columns):\n",
            " #   Column                    Non-Null Count  Dtype  \n",
            "---  ------                    --------------  -----  \n",
            " 0   Pregnancies               768 non-null    int64  \n",
            " 1   Glucose                   768 non-null    int64  \n",
            " 2   BloodPressure             768 non-null    int64  \n",
            " 3   SkinThickness             768 non-null    int64  \n",
            " 4   Insulin                   768 non-null    int64  \n",
            " 5   BMI                       768 non-null    float64\n",
            " 6   DiabetesPedigreeFunction  768 non-null    float64\n",
            " 7   Age                       768 non-null    int64  \n",
            " 8   Outcome                   768 non-null    int64  \n",
            "dtypes: float64(2), int64(7)\n",
            "memory usage: 54.1 KB\n"
          ]
        }
      ]
    },
    {
      "cell_type": "code",
      "source": [
        "df.isna().sum()"
      ],
      "metadata": {
        "id": "0j7XHU5G0804",
        "colab": {
          "base_uri": "https://localhost:8080/",
          "height": 366
        },
        "outputId": "c081b527-b517-4cfb-e8cf-7807ccd9e8bf"
      },
      "execution_count": null,
      "outputs": [
        {
          "output_type": "execute_result",
          "data": {
            "text/plain": [
              "Pregnancies                 0\n",
              "Glucose                     0\n",
              "BloodPressure               0\n",
              "SkinThickness               0\n",
              "Insulin                     0\n",
              "BMI                         0\n",
              "DiabetesPedigreeFunction    0\n",
              "Age                         0\n",
              "Outcome                     0\n",
              "dtype: int64"
            ],
            "text/html": [
              "<div>\n",
              "<style scoped>\n",
              "    .dataframe tbody tr th:only-of-type {\n",
              "        vertical-align: middle;\n",
              "    }\n",
              "\n",
              "    .dataframe tbody tr th {\n",
              "        vertical-align: top;\n",
              "    }\n",
              "\n",
              "    .dataframe thead th {\n",
              "        text-align: right;\n",
              "    }\n",
              "</style>\n",
              "<table border=\"1\" class=\"dataframe\">\n",
              "  <thead>\n",
              "    <tr style=\"text-align: right;\">\n",
              "      <th></th>\n",
              "      <th>0</th>\n",
              "    </tr>\n",
              "  </thead>\n",
              "  <tbody>\n",
              "    <tr>\n",
              "      <th>Pregnancies</th>\n",
              "      <td>0</td>\n",
              "    </tr>\n",
              "    <tr>\n",
              "      <th>Glucose</th>\n",
              "      <td>0</td>\n",
              "    </tr>\n",
              "    <tr>\n",
              "      <th>BloodPressure</th>\n",
              "      <td>0</td>\n",
              "    </tr>\n",
              "    <tr>\n",
              "      <th>SkinThickness</th>\n",
              "      <td>0</td>\n",
              "    </tr>\n",
              "    <tr>\n",
              "      <th>Insulin</th>\n",
              "      <td>0</td>\n",
              "    </tr>\n",
              "    <tr>\n",
              "      <th>BMI</th>\n",
              "      <td>0</td>\n",
              "    </tr>\n",
              "    <tr>\n",
              "      <th>DiabetesPedigreeFunction</th>\n",
              "      <td>0</td>\n",
              "    </tr>\n",
              "    <tr>\n",
              "      <th>Age</th>\n",
              "      <td>0</td>\n",
              "    </tr>\n",
              "    <tr>\n",
              "      <th>Outcome</th>\n",
              "      <td>0</td>\n",
              "    </tr>\n",
              "  </tbody>\n",
              "</table>\n",
              "</div><br><label><b>dtype:</b> int64</label>"
            ]
          },
          "metadata": {},
          "execution_count": 7
        }
      ]
    },
    {
      "cell_type": "code",
      "source": [
        "df['Outcome'].value_counts(normalize=True)"
      ],
      "metadata": {
        "colab": {
          "base_uri": "https://localhost:8080/",
          "height": 178
        },
        "id": "_a62x7AqGvDM",
        "outputId": "99d18eaa-3dd1-4528-e218-eac04299db7a"
      },
      "execution_count": null,
      "outputs": [
        {
          "output_type": "execute_result",
          "data": {
            "text/plain": [
              "Outcome\n",
              "0    0.651042\n",
              "1    0.348958\n",
              "Name: proportion, dtype: float64"
            ],
            "text/html": [
              "<div>\n",
              "<style scoped>\n",
              "    .dataframe tbody tr th:only-of-type {\n",
              "        vertical-align: middle;\n",
              "    }\n",
              "\n",
              "    .dataframe tbody tr th {\n",
              "        vertical-align: top;\n",
              "    }\n",
              "\n",
              "    .dataframe thead th {\n",
              "        text-align: right;\n",
              "    }\n",
              "</style>\n",
              "<table border=\"1\" class=\"dataframe\">\n",
              "  <thead>\n",
              "    <tr style=\"text-align: right;\">\n",
              "      <th></th>\n",
              "      <th>proportion</th>\n",
              "    </tr>\n",
              "    <tr>\n",
              "      <th>Outcome</th>\n",
              "      <th></th>\n",
              "    </tr>\n",
              "  </thead>\n",
              "  <tbody>\n",
              "    <tr>\n",
              "      <th>0</th>\n",
              "      <td>0.651042</td>\n",
              "    </tr>\n",
              "    <tr>\n",
              "      <th>1</th>\n",
              "      <td>0.348958</td>\n",
              "    </tr>\n",
              "  </tbody>\n",
              "</table>\n",
              "</div><br><label><b>dtype:</b> float64</label>"
            ]
          },
          "metadata": {},
          "execution_count": 8
        }
      ]
    },
    {
      "cell_type": "markdown",
      "source": [
        "Our data is fully numeric, there is no NaN values, the target variable is imbalanced."
      ],
      "metadata": {
        "id": "fXp_SZ7wGgCI"
      }
    },
    {
      "cell_type": "markdown",
      "source": [
        "## 2. Data Preparation"
      ],
      "metadata": {
        "id": "opC86io4QesS"
      }
    },
    {
      "cell_type": "markdown",
      "source": [
        "As our data has no NaN values and is fully numeric, we only need to deal with class imbalance in target variable, split our data and convert data to tensor type. Also it will be a good practice to scale our data, as Neural Network works better with scaled data, for that I will use MinMaxScaler."
      ],
      "metadata": {
        "id": "ju_aINePQtQx"
      }
    },
    {
      "cell_type": "code",
      "source": [
        "# First we scale the data\n",
        "X = df.drop(columns=['Outcome']).values\n",
        "y = df['Outcome'].values"
      ],
      "metadata": {
        "id": "yNHNO-B907MD"
      },
      "execution_count": null,
      "outputs": []
    },
    {
      "cell_type": "code",
      "source": [
        "X.size"
      ],
      "metadata": {
        "colab": {
          "base_uri": "https://localhost:8080/"
        },
        "id": "9GksaUwJtV0y",
        "outputId": "db7865c1-ebe8-4b1b-bf00-47161311dea6"
      },
      "execution_count": null,
      "outputs": [
        {
          "output_type": "execute_result",
          "data": {
            "text/plain": [
              "6144"
            ]
          },
          "metadata": {},
          "execution_count": 10
        }
      ]
    },
    {
      "cell_type": "code",
      "source": [
        "scaler = MinMaxScaler()\n",
        "X_scaled = scaler.fit_transform(X)"
      ],
      "metadata": {
        "id": "ItlCBkhMVh8Z"
      },
      "execution_count": null,
      "outputs": []
    },
    {
      "cell_type": "markdown",
      "source": [
        "I chose MinMaxScaler. I have tried StandardScaler and RobustScaler and they both seemed to be making the model overfitting, but minmaxscaler managed to do better than those 2. Probably it is due to different scaling techniques."
      ],
      "metadata": {
        "id": "l_AaVsYmXDSy"
      }
    },
    {
      "cell_type": "code",
      "source": [
        "X_scaled.size"
      ],
      "metadata": {
        "colab": {
          "base_uri": "https://localhost:8080/"
        },
        "id": "aPuegn0WtLAH",
        "outputId": "eb98f93d-82f7-4929-8de0-1d4a9ca7c36b"
      },
      "execution_count": null,
      "outputs": [
        {
          "output_type": "execute_result",
          "data": {
            "text/plain": [
              "6144"
            ]
          },
          "metadata": {},
          "execution_count": 12
        }
      ]
    },
    {
      "cell_type": "code",
      "source": [
        "# for dealing with oversampling I will use RandomOverSampler\n",
        "oversampler = RandomOverSampler(sampling_strategy='auto', random_state=42)\n",
        "X_resampled, y_resampled = oversampler.fit_resample(X_scaled, y)"
      ],
      "metadata": {
        "colab": {
          "base_uri": "https://localhost:8080/"
        },
        "id": "u5sWzH6NjneZ",
        "outputId": "466a945d-7de3-4446-df17-af150822401b"
      },
      "execution_count": null,
      "outputs": [
        {
          "output_type": "stream",
          "name": "stderr",
          "text": [
            "/usr/local/lib/python3.10/dist-packages/sklearn/utils/deprecation.py:151: FutureWarning: 'force_all_finite' was renamed to 'ensure_all_finite' in 1.6 and will be removed in 1.8.\n",
            "  warnings.warn(\n",
            "/usr/local/lib/python3.10/dist-packages/sklearn/base.py:484: FutureWarning: `BaseEstimator._check_n_features` is deprecated in 1.6 and will be removed in 1.7. Use `sklearn.utils.validation._check_n_features` instead.\n",
            "  warnings.warn(\n",
            "/usr/local/lib/python3.10/dist-packages/sklearn/base.py:493: FutureWarning: `BaseEstimator._check_feature_names` is deprecated in 1.6 and will be removed in 1.7. Use `sklearn.utils.validation._check_feature_names` instead.\n",
            "  warnings.warn(\n"
          ]
        }
      ]
    },
    {
      "cell_type": "code",
      "source": [
        "X_resampled.size"
      ],
      "metadata": {
        "colab": {
          "base_uri": "https://localhost:8080/"
        },
        "id": "ZBP2bUi6nqQf",
        "outputId": "096aeb3a-8796-4e43-932a-fbe14a5f1d57"
      },
      "execution_count": null,
      "outputs": [
        {
          "output_type": "execute_result",
          "data": {
            "text/plain": [
              "8000"
            ]
          },
          "metadata": {},
          "execution_count": 14
        }
      ]
    },
    {
      "cell_type": "code",
      "source": [
        "y_resampled.size"
      ],
      "metadata": {
        "colab": {
          "base_uri": "https://localhost:8080/"
        },
        "id": "AFQbH5vDojYB",
        "outputId": "bfe70df2-5f7a-463a-8dd5-5b00a2869b31"
      },
      "execution_count": null,
      "outputs": [
        {
          "output_type": "execute_result",
          "data": {
            "text/plain": [
              "1000"
            ]
          },
          "metadata": {},
          "execution_count": 15
        }
      ]
    },
    {
      "cell_type": "code",
      "source": [
        "counts = np.unique(y_resampled, return_counts=True)\n",
        "counts"
      ],
      "metadata": {
        "colab": {
          "base_uri": "https://localhost:8080/"
        },
        "id": "hWYKqyNjua4Y",
        "outputId": "4e3f9a10-0908-4b74-bf79-c1ab9295b5a2"
      },
      "execution_count": null,
      "outputs": [
        {
          "output_type": "execute_result",
          "data": {
            "text/plain": [
              "(array([0, 1]), array([500, 500]))"
            ]
          },
          "metadata": {},
          "execution_count": 16
        }
      ]
    },
    {
      "cell_type": "code",
      "source": [
        "print(pd.Series(y_resampled).value_counts())"
      ],
      "metadata": {
        "colab": {
          "base_uri": "https://localhost:8080/"
        },
        "id": "_mn_lImY1Nwf",
        "outputId": "56805708-49b6-4527-cd47-9b14cf4cad4d"
      },
      "execution_count": null,
      "outputs": [
        {
          "output_type": "stream",
          "name": "stdout",
          "text": [
            "1    500\n",
            "0    500\n",
            "Name: count, dtype: int64\n"
          ]
        }
      ]
    },
    {
      "cell_type": "markdown",
      "source": [
        "So, we have X_sampled with 8 columns and 1000 rows, and y_sampled with 1 column and 1000 rows(500 for value 0, and 500 for 1), now we don't have imbalanced target variable."
      ],
      "metadata": {
        "id": "zJpgTmQz2AHw"
      }
    },
    {
      "cell_type": "code",
      "source": [
        "# Now we split the data into training and test sets\n",
        "\n",
        "X_train, X_test, y_train, y_test = train_test_split(X_resampled, y_resampled, test_size=0.3, stratify=y_resampled, random_state=42)"
      ],
      "metadata": {
        "id": "p2_vBZgeVqHY"
      },
      "execution_count": null,
      "outputs": []
    },
    {
      "cell_type": "code",
      "source": [
        "# Here we convert features and labels to PyTorch tensors\n",
        "X_train_tensor = torch.tensor(X_train, dtype=torch.float32)\n",
        "y_train_tensor = torch.tensor(y_train, dtype=torch.float32)\n",
        "\n",
        "X_test_tensor = torch.tensor(X_test, dtype=torch.float32)\n",
        "y_test_tensor = torch.tensor(y_test, dtype=torch.float32)"
      ],
      "metadata": {
        "id": "JsO-er0GVtZz"
      },
      "execution_count": null,
      "outputs": []
    },
    {
      "cell_type": "code",
      "source": [
        "# To create DataLoaders we first need to create TensorDataset objects\n",
        "train_dataset = TensorDataset(X_train_tensor, y_train_tensor)\n",
        "test_dataset = TensorDataset(X_test_tensor, y_test_tensor)\n",
        "\n",
        "train_loader = DataLoader(train_dataset, batch_size=4, shuffle=True)\n",
        "test_loader = DataLoader(test_dataset, batch_size=4, shuffle=False)\n",
        "# so, TensorDataset - combines features and labels for each dataset\n",
        "# and DataLoader - batches and shuffles the training data for efficient processing"
      ],
      "metadata": {
        "id": "bP_yKGGCe3Je"
      },
      "execution_count": null,
      "outputs": []
    },
    {
      "cell_type": "markdown",
      "source": [
        "We use DataLoaders to efficiently load data in batches, save memory, shuffle data for better training and simplify iteration during model training."
      ],
      "metadata": {
        "id": "lpCKPKWn_iUd"
      }
    },
    {
      "cell_type": "markdown",
      "source": [
        "## 3. Modeling with PyTorch"
      ],
      "metadata": {
        "id": "xsmL-bVf2Zbn"
      }
    },
    {
      "cell_type": "markdown",
      "source": [
        "### 3.1 First PyTorch NeuralNetwork model"
      ],
      "metadata": {
        "id": "QMV8BnhR20CV"
      }
    },
    {
      "cell_type": "code",
      "source": [
        "torch.manual_seed(42)\n",
        "np.random.seed(42)\n",
        "\n",
        "class DiabetesCLFModelV1(nn.Module):\n",
        "  def __init__(self, input_features, output_features):\n",
        "    super().__init__()\n",
        "    self.linear1 = nn.Linear(input_features, 128)\n",
        "\n",
        "    self.linear2 = nn.Linear(128, 128)\n",
        "\n",
        "    self.linear3 = nn.Linear(128, output_features)\n",
        "\n",
        "  def forward(self, x):\n",
        "    x = F.relu(self.linear1(x))\n",
        "\n",
        "    x = F.relu(self.linear2(x))\n",
        "\n",
        "    x = self.linear3(x)\n",
        "\n",
        "    return x\n",
        "\n",
        "model_v1 = DiabetesCLFModelV1(input_features=8, output_features=1)\n",
        "model_v1"
      ],
      "metadata": {
        "colab": {
          "base_uri": "https://localhost:8080/"
        },
        "id": "fmpUcl40fUZL",
        "outputId": "d9111592-d7f6-4548-f97d-cbce31ec0b8d"
      },
      "execution_count": null,
      "outputs": [
        {
          "output_type": "execute_result",
          "data": {
            "text/plain": [
              "DiabetesCLFModelV1(\n",
              "  (linear1): Linear(in_features=8, out_features=128, bias=True)\n",
              "  (linear2): Linear(in_features=128, out_features=128, bias=True)\n",
              "  (linear3): Linear(in_features=128, out_features=1, bias=True)\n",
              ")"
            ]
          },
          "metadata": {},
          "execution_count": 21
        }
      ]
    },
    {
      "cell_type": "markdown",
      "source": [
        "This model is a simple neural network designed for classification tasks.\n",
        "\n",
        "- The first layer takes the input features and outputs 128 values, essentially transforming the data into a new space.\n",
        "- The second layer processes those 128 values and outputs another 128 values, adding more complexity.\n",
        "- The third layer takes the 128 values and produces the final output, which matches the number of target classes.\n",
        "\n",
        "In the forward function, the input goes through the first layer, then through the ReLU activation function to catch non-linear trends. This process is repeated for the second layer. The final layer directly gives the output without any activation, leaving it as raw predictions. The model is basic and doesn't have techniques like regularization, which might make it more prone to overfitting."
      ],
      "metadata": {
        "id": "7mVfEqFC77XL"
      }
    },
    {
      "cell_type": "code",
      "source": [
        "# Calculate accuracy - out of 100 examples, what percentage does our model get right?\n",
        "def accuracy_fn(y_true, y_pred):\n",
        "  correct = torch.eq(y_true, y_pred).sum().item()\n",
        "  acc = (correct / len(y_pred)) * 100\n",
        "  return acc"
      ],
      "metadata": {
        "id": "QtRZh0_q6RNE"
      },
      "execution_count": null,
      "outputs": []
    },
    {
      "cell_type": "markdown",
      "source": [
        "### 3.2 Train and Test loop functions"
      ],
      "metadata": {
        "id": "Qe_wZVC2AyLT"
      }
    },
    {
      "cell_type": "code",
      "source": [
        "# setup the device\n",
        "device = \"cuda\" if torch.cuda.is_available() else \"cpu\"\n",
        "device"
      ],
      "metadata": {
        "colab": {
          "base_uri": "https://localhost:8080/",
          "height": 35
        },
        "id": "JBmaYI3z-BLT",
        "outputId": "a62f9d4f-22fb-4960-8835-84ea7ea3b745"
      },
      "execution_count": null,
      "outputs": [
        {
          "output_type": "execute_result",
          "data": {
            "text/plain": [
              "'cpu'"
            ],
            "application/vnd.google.colaboratory.intrinsic+json": {
              "type": "string"
            }
          },
          "metadata": {},
          "execution_count": 23
        }
      ]
    },
    {
      "cell_type": "code",
      "source": [
        "# this function is for printing difference between start and end time(so measure the train time of model)\n",
        "def print_train_time(start: float, end: float, device: torch.device = None):\n",
        "    \"\"\"Prints difference between start and end time.\n",
        "\n",
        "    Args:\n",
        "        start (float): Start time of computation (preferred in timeit format).\n",
        "        end (float): End time of computation.\n",
        "        device ([type], optional): Device that compute is running on. Defaults to None.\n",
        "\n",
        "    Returns:\n",
        "        float: time between start and end in seconds (higher is longer).\n",
        "    \"\"\"\n",
        "    total_time = end - start\n",
        "    print(f\"Train time on {device}: {total_time:.3f} seconds\")\n",
        "    return total_time"
      ],
      "metadata": {
        "id": "EMhLGAlgDzNR"
      },
      "execution_count": null,
      "outputs": []
    },
    {
      "cell_type": "markdown",
      "source": [
        "These train and test functions I found here - https://www.learnpytorch.io/03_pytorch_computer_vision/#62-functionizing-training-and-test-loops"
      ],
      "metadata": {
        "id": "PG55fA1GBtGB"
      }
    },
    {
      "cell_type": "code",
      "source": [
        "# Calculate accuracy - out of 100 examples, what percentage does our model get right?\n",
        "def accuracy_fn(y_true, y_pred):\n",
        "  correct = torch.eq(y_true, y_pred).sum().item()\n",
        "  acc = (correct / len(y_pred)) * 100\n",
        "  return acc\n",
        "\n",
        "def train_step(model: torch.nn.Module,\n",
        "               data_loader: torch.utils.data.DataLoader,\n",
        "               loss_fn: torch.nn.Module,\n",
        "               optimizer: torch.optim.Optimizer,\n",
        "               accuracy_fn,\n",
        "               device: torch.device = device):\n",
        "    train_loss, train_acc = 0, 0\n",
        "    model.to(device)\n",
        "    for batch, (X, y) in enumerate(data_loader):\n",
        "        # Send data to GPU\n",
        "        X, y = X.to(device), y.to(device)\n",
        "\n",
        "        # Reshape y to match y_pred\n",
        "        y = y.view(-1, 1)\n",
        "\n",
        "        # 1. Forward pass\n",
        "        y_pred = model(X)\n",
        "\n",
        "        # 2. Calculate loss\n",
        "        loss = loss_fn(y_pred, y)\n",
        "        train_loss += loss.item()  # Accumulate loss as a scalar\n",
        "        train_acc += accuracy_fn(y_true=y, y_pred=(y_pred > 0).int())  # Binary threshold at 0.5\n",
        "\n",
        "        # 3. Optimizer zero grad\n",
        "        optimizer.zero_grad()\n",
        "\n",
        "        # 4. Loss backward\n",
        "        loss.backward()\n",
        "\n",
        "        # 5. Optimizer step\n",
        "        optimizer.step()\n",
        "\n",
        "    # Calculate loss and accuracy per epoch and print out what's happening\n",
        "    train_loss /= len(data_loader)\n",
        "    train_acc /= len(data_loader)\n",
        "    print(f\"Train loss: {train_loss:.5f} | Train accuracy: {train_acc:.2f}%\")\n",
        "\n",
        "\n",
        "def test_step(data_loader: torch.utils.data.DataLoader,\n",
        "              model: torch.nn.Module,\n",
        "              loss_fn: torch.nn.Module,\n",
        "              accuracy_fn,\n",
        "              device: torch.device = device):\n",
        "    test_loss, test_acc = 0, 0\n",
        "    model.to(device)\n",
        "    model.eval()  # put model in eval mode\n",
        "    with torch.inference_mode():\n",
        "        for X, y in data_loader:\n",
        "            # Send data to GPU\n",
        "            X, y = X.to(device), y.to(device)\n",
        "\n",
        "            # Reshape y to match y_pred\n",
        "            y = y.view(-1, 1)\n",
        "\n",
        "            # 1. Forward pass\n",
        "            test_pred = model(X)\n",
        "\n",
        "            # 2. Calculate loss and accuracy\n",
        "            test_loss += loss_fn(test_pred, y).item()\n",
        "            test_acc += accuracy_fn(y_true=y, y_pred=(test_pred > 0).int())\n",
        "\n",
        "        # Adjust metrics and print out\n",
        "        test_loss /= len(data_loader)\n",
        "        test_acc /= len(data_loader)\n",
        "        print(f\"Test loss: {test_loss:.5f} | Test accuracy: {test_acc:.2f}%\\n\")\n"
      ],
      "metadata": {
        "id": "bOloN2f4BjM9"
      },
      "execution_count": null,
      "outputs": []
    },
    {
      "cell_type": "markdown",
      "source": [
        "### 3.3 Evaluating model_v1"
      ],
      "metadata": {
        "id": "JTiL3uHLT7P5"
      }
    },
    {
      "cell_type": "code",
      "source": [
        "# torch.manual_seed(42)\n",
        "# np.random.seed(42)\n",
        "\n",
        "# # now we define loss function and optimizer\n",
        "# loss_fn = nn.BCEWithLogitsLoss() # - we use this one because it includes sigmoid activation which we need\n",
        "# optimizer = torch.optim.SGD(model_v1.parameters(), lr=0.01)\n",
        "\n",
        "# # Measure time\n",
        "# train_time_start_on_gpu = timer()\n",
        "\n",
        "# epochs = 100\n",
        "# for epoch in tqdm(range(epochs)):\n",
        "#     print(f\"Epoch: {epoch}\\n---------\")\n",
        "#     train_step(data_loader=train_loader,\n",
        "#         model=model_v1,\n",
        "#         loss_fn=loss_fn,\n",
        "#         optimizer=optimizer,\n",
        "#         accuracy_fn=accuracy_fn,\n",
        "#         device=device\n",
        "#     )\n",
        "#     test_step(data_loader=test_loader,\n",
        "#         model=model_v1,\n",
        "#         loss_fn=loss_fn,\n",
        "#         accuracy_fn=accuracy_fn,\n",
        "#         device=device\n",
        "#     )\n",
        "\n",
        "# train_time_end_on_gpu = timer()\n",
        "# total_train_time_model_1 = print_train_time(start=train_time_start_on_gpu,\n",
        "#                                             end=train_time_end_on_gpu,\n",
        "#                                             device=device)"
      ],
      "metadata": {
        "id": "nx7NpoDnB_SB"
      },
      "execution_count": null,
      "outputs": []
    },
    {
      "cell_type": "markdown",
      "source": [
        "After training our first model we can see that results are pretty decent,(approximately) train = 78% and test = 78% (they are really close)."
      ],
      "metadata": {
        "id": "OseL2AdWRh_L"
      }
    },
    {
      "cell_type": "markdown",
      "source": [
        "Let's try to use different optimizer, Adam.\n",
        "\n",
        "\n"
      ],
      "metadata": {
        "id": "BV38v7Xvt-3W"
      }
    },
    {
      "cell_type": "code",
      "source": [
        "# torch.manual_seed(42)\n",
        "# np.random.seed(42)\n",
        "\n",
        "# model_v1 = DiabetesCLFModelV1(input_features=8, output_features=1)\n",
        "# loss_fn = nn.BCEWithLogitsLoss()\n",
        "# optimizer = torch.optim.Adam(model_v1.parameters(), lr=0.001) # changed optimizer to Adam\n",
        "\n",
        "# train_time_start_on_gpu = timer()\n",
        "\n",
        "# epochs = 100\n",
        "# for epoch in tqdm(range(epochs)):\n",
        "#     print(f\"Epoch: {epoch}\\n---------\")\n",
        "#     train_step(data_loader=train_loader,\n",
        "#         model=model_v1,\n",
        "#         loss_fn=loss_fn,\n",
        "#         optimizer=optimizer,\n",
        "#         accuracy_fn=accuracy_fn,\n",
        "#         device=device\n",
        "#     )\n",
        "#     test_step(data_loader=test_loader,\n",
        "#         model=model_v1,\n",
        "#         loss_fn=loss_fn,\n",
        "#         accuracy_fn=accuracy_fn,\n",
        "#         device=device\n",
        "#     )\n",
        "\n",
        "# train_time_end_on_gpu = timer()\n",
        "# total_train_time_model_1 = print_train_time(start=train_time_start_on_gpu,\n",
        "#                                             end=train_time_end_on_gpu,\n",
        "#                                             device=device)"
      ],
      "metadata": {
        "id": "aRFe3n3DSh0U"
      },
      "execution_count": null,
      "outputs": []
    },
    {
      "cell_type": "markdown",
      "source": [
        "Interesting. Our model performs better with Adam optimizer but it seems to be overfitting, let's try to use smaller learning rate like 0.0001."
      ],
      "metadata": {
        "id": "831mTQoNOHZl"
      }
    },
    {
      "cell_type": "code",
      "source": [
        "# torch.manual_seed(42)\n",
        "# np.random.seed(42)\n",
        "\n",
        "# model_v1 = DiabetesCLFModelV1(input_features=8, output_features=1)\n",
        "# loss_fn = nn.BCEWithLogitsLoss()\n",
        "# optimizer = torch.optim.Adam(model_v1.parameters(), lr=0.00005)\n",
        "\n",
        "# train_time_start_on_gpu = timer()\n",
        "\n",
        "# epochs = 100\n",
        "# for epoch in tqdm(range(epochs)):\n",
        "#     print(f\"Epoch: {epoch}\\n---------\")\n",
        "#     train_step(data_loader=train_loader,\n",
        "#         model=model_v1,\n",
        "#         loss_fn=loss_fn,\n",
        "#         optimizer=optimizer,\n",
        "#         accuracy_fn=accuracy_fn,\n",
        "#         device=device\n",
        "#     )\n",
        "#     test_step(data_loader=test_loader,\n",
        "#         model=model_v1,\n",
        "#         loss_fn=loss_fn,\n",
        "#         accuracy_fn=accuracy_fn,\n",
        "#         device=device\n",
        "#     )\n",
        "\n",
        "# train_time_end_on_gpu = timer()\n",
        "# total_train_time_model_1 = print_train_time(start=train_time_start_on_gpu,\n",
        "#                                             end=train_time_end_on_gpu,\n",
        "#                                             device=device)"
      ],
      "metadata": {
        "id": "3zd8EgTOVlfr"
      },
      "execution_count": null,
      "outputs": []
    },
    {
      "cell_type": "markdown",
      "source": [
        "So, model_v1 with SGD and lr=0.01 performed as good as Adam with lr=0.00005. But Adam with 0.001 is overfitting on train data, let's try to create new more complicated model and add more layers with Dropout and regularization to fix overfitting and test it again with SGD and Adam and see the final results. For now our best result is this:\n",
        "- Train loss: 0.46523 | Train accuracy: 77.71%\n",
        "- Test loss: 0.48007 | Test accuracy: 77.67%"
      ],
      "metadata": {
        "id": "cM-qau2YPs3S"
      }
    },
    {
      "cell_type": "markdown",
      "source": [
        "### 3.4 Model_v2"
      ],
      "metadata": {
        "id": "DYh6QSVyWFkj"
      }
    },
    {
      "cell_type": "code",
      "source": [
        "class DiabetesCLFModelV2(nn.Module):\n",
        "    def __init__(self, input_features, output_features):\n",
        "        super().__init__()\n",
        "\n",
        "        self.linear1 = nn.Linear(input_features, 256)\n",
        "        self.batch_norm1 = nn.BatchNorm1d(256)\n",
        "        self.drop1 = nn.Dropout(p=0.5)\n",
        "\n",
        "        self.linear2 = nn.Linear(256, 512)\n",
        "        self.batch_norm2 = nn.BatchNorm1d(512)\n",
        "        self.drop2 = nn.Dropout(p=0.5)\n",
        "\n",
        "        self.linear3 = nn.Linear(512, 256)\n",
        "        self.batch_norm3 = nn.BatchNorm1d(256)\n",
        "        self.drop3 = nn.Dropout(p=0.5)\n",
        "\n",
        "        self.linear4 = nn.Linear(256, output_features)\n",
        "\n",
        "    def forward(self, x):\n",
        "      x = F.relu(self.linear1(x))\n",
        "      x = self.batch_norm1(x)\n",
        "      x = self.drop1(x)\n",
        "\n",
        "      x = F.relu(self.linear2(x))\n",
        "      x = self.batch_norm2(x)\n",
        "      x = self.drop2(x)\n",
        "\n",
        "      x = F.relu(self.linear3(x))\n",
        "      x = self.batch_norm3(x)\n",
        "      x = self.drop3(x)\n",
        "\n",
        "      x = self.linear4(x)\n",
        "\n",
        "      return x"
      ],
      "metadata": {
        "id": "qWMiOG5gL72T"
      },
      "execution_count": null,
      "outputs": []
    },
    {
      "cell_type": "markdown",
      "source": [
        "This model is a more advanced version of the first, aimed at reducing overfitting and improving learning stability.\n",
        "\n",
        "- The first layer outputs 256 values, followed by batch normalization for stable learning and dropout to reduce overfitting.\n",
        "- The second layer expands to 512 values, with the same normalization and dropout.\n",
        "- The third layer reduces back to 256 values, again applying normalization and dropout.\n",
        "- The final layer produces the output, matching the target dimensions.\n",
        "\n",
        "In the forward function, input data flows through each layer, with ReLU activations after the first three layers for non-linearity. Batch normalization ensures stable outputs, and dropout prevents reliance on specific neurons.\n",
        "\n",
        "Unlike the first model, the second adds batch normalization and dropout, which help reduce overfitting and improve training stability. It also uses more layers and higher intermediate dimensions, increasing its capacity to learn complex patterns. These changes make the second model better suited for generalizing to unseen data in theory, we will see if it's better or not."
      ],
      "metadata": {
        "id": "z0LuDGQpD-6t"
      }
    },
    {
      "cell_type": "code",
      "source": [
        "# torch.manual_seed(42)\n",
        "# np.random.seed(42)\n",
        "\n",
        "# model_v2 = DiabetesCLFModelV2(input_features=8, output_features=1)\n",
        "# loss_fn = nn.BCEWithLogitsLoss()\n",
        "# optimizer = torch.optim.SGD(model_v2.parameters(), lr=0.00001)\n",
        "\n",
        "\n",
        "# train_time_start_on_gpu = timer()\n",
        "\n",
        "# epochs = 100\n",
        "# for epoch in tqdm(range(epochs)):\n",
        "#     print(f\"Epoch: {epoch}\\n---------\")\n",
        "#     train_step(data_loader=train_loader,\n",
        "#         model=model_v2,\n",
        "#         loss_fn=loss_fn,\n",
        "#         optimizer=optimizer,\n",
        "#         accuracy_fn=accuracy_fn,\n",
        "#         device=device\n",
        "#     )\n",
        "#     test_step(data_loader=test_loader,\n",
        "#         model=model_v2,\n",
        "#         loss_fn=loss_fn,\n",
        "#         accuracy_fn=accuracy_fn,\n",
        "#         device=device\n",
        "#     )\n",
        "\n",
        "# train_time_end_on_gpu = timer()\n",
        "# total_train_time_model_1 = print_train_time(start=train_time_start_on_gpu,\n",
        "#                                             end=train_time_end_on_gpu,\n",
        "#                                             device=device)"
      ],
      "metadata": {
        "id": "RLnrmWMyQe6K"
      },
      "execution_count": null,
      "outputs": []
    },
    {
      "cell_type": "markdown",
      "source": [
        "Results for SGD lr=0.01:\n",
        "- 50 epochs:\n",
        "  - Train loss: 0.10521 | Train accuracy: 95.86%\n",
        "  - Test loss: 0.83959 | Test accuracy: 76.67%\n",
        "- 100 epochs:\n",
        "  - Train loss: 0.00182 | Train accuracy: 100.00%\n",
        "  - Test loss: 1.22179 | Test accuracy: 79.67%\n",
        "\n",
        "Results for SGD lr=0.001:\n",
        "- 50 epochs:\n",
        "  - Train loss: 0.17549 | Train accuracy: 94.00%\n",
        "  - Test loss: 0.53707 | Test accuracy: 80.00%\n",
        "- 100 epochs:\n",
        "  - Train loss: 0.05621 | Train accuracy: 99.00%\n",
        "  - Test loss: 0.73896 | Test accuracy: 82.00%\n",
        "\n",
        "Results for SGD lr=0.0001:\n",
        "- 50 epochs:\n",
        "  - Train loss: 0.40853 | Train accuracy: 81.86%\n",
        "  - Test loss: 0.48787 | Test accuracy: 76.67%\n",
        "- 100 epochs:\n",
        "  - Train loss: 0.34731 | Train accuracy: 85.57%\n",
        "  - Test loss: 0.47525 | Test accuracy: 77.67%\n",
        "\n",
        "Results for SGD lr=0.00005:\n",
        "- 50 epochs:\n",
        "  - Train loss: 0.45716 | Train accuracy: 79.14%\n",
        "  - Test loss: 0.50453 | Test accuracy: 75.67%\n",
        "- 100 epochs:\n",
        "  - Train loss: 0.40800 | Train accuracy: 81.57%\n",
        "  - Test loss: 0.48595 | Test accuracy: 75.33%\n",
        "\n",
        "Results for SGD lr=0.00001:\n",
        "- 100 epochs:\n",
        "  - Train loss: 0.52147 | Train accuracy: 77.29%\n",
        "  - Test loss: 0.54617 | Test accuracy: 76.67%"
      ],
      "metadata": {
        "id": "5xIBly87FQ36"
      }
    },
    {
      "cell_type": "markdown",
      "source": [
        "Model still tends to overfit, If we lower learning rate the lower will be the accuracy and we can fix overfitting but results are worse than in first model_v1. Let's try Adam."
      ],
      "metadata": {
        "id": "KgdP4tXAJLzt"
      }
    },
    {
      "cell_type": "code",
      "source": [
        "# torch.manual_seed(42)\n",
        "# np.random.seed(42)\n",
        "\n",
        "# model_v2 = DiabetesCLFModelV2(input_features=8, output_features=1)\n",
        "# loss_fn = nn.BCEWithLogitsLoss()\n",
        "# optimizer = torch.optim.Adam(model_v2.parameters(), lr=0.000001)\n",
        "\n",
        "\n",
        "# train_time_start_on_gpu = timer()\n",
        "\n",
        "# epochs = 100\n",
        "# for epoch in tqdm(range(epochs)):\n",
        "#     print(f\"Epoch: {epoch}\\n---------\")\n",
        "#     train_step(data_loader=train_loader,\n",
        "#         model=model_v2,\n",
        "#         loss_fn=loss_fn,\n",
        "#         optimizer=optimizer,\n",
        "#         accuracy_fn=accuracy_fn,\n",
        "#         device=device\n",
        "#     )\n",
        "#     test_step(data_loader=test_loader,\n",
        "#         model=model_v2,\n",
        "#         loss_fn=loss_fn,\n",
        "#         accuracy_fn=accuracy_fn,\n",
        "#         device=device\n",
        "#     )\n",
        "\n",
        "# train_time_end_on_gpu = timer()\n",
        "# total_train_time_model_1 = print_train_time(start=train_time_start_on_gpu,\n",
        "#                                             end=train_time_end_on_gpu,\n",
        "#                                             device=device)"
      ],
      "metadata": {
        "id": "bNEXZEYit7q7"
      },
      "execution_count": null,
      "outputs": []
    },
    {
      "cell_type": "markdown",
      "source": [
        "Results for Adam `lr=0.001`:\n",
        "- 50 epochs:\n",
        "  - Train loss: 0.15714 | Train accuracy: 95.57%\n",
        "  - Test loss: 1.00434 | Test accuracy: 80.67%\n",
        "- 100 epochs:\n",
        "  - Train loss: 0.00577 | Train accuracy: 99.86%\n",
        "  - Test loss: 1.64907 | Test accuracy: 81.00%\n",
        "\n",
        "Results for Adam `lr=0.0001`:\n",
        "- 50 epochs:\n",
        "  - Train loss: 0.01220 | Train accuracy: 99.86%\n",
        "  - Test loss: 1.12092 | Test accuracy: 81.67%\n",
        "- 100 epochs:\n",
        "  - Train loss: 0.00079 | Train accuracy: 100.00%\n",
        "  - Test loss: 1.34978 | Test accuracy: 81.00%\n",
        "\n",
        "Results for Adam `lr=0.00001`:\n",
        "- 50 epochs:\n",
        "  - Train loss: 0.26529 | Train accuracy: 89.71%\n",
        "  - Test loss: 0.49258 | Test accuracy: 77.67%\n",
        "- 100 epochs:\n",
        "  - Train loss: 0.14119 | Train accuracy: 96.14%\n",
        "  - Test loss: 0.57390 | Test accuracy: 81.00%\n",
        "\n",
        "Results for Adam `lr=0.000001`:\n",
        "- 50 epochs:\n",
        "  - Train loss: 0.45795 | Train accuracy: 80.00%\n",
        "  - Test loss: 0.50530 | Test accuracy: 75.67%\n",
        "- 100 epochs:\n",
        "  - Train loss: 0.39842 | Train accuracy: 82.71%\n",
        "  - Test loss: 0.48547 | Test accuracy: 76.33%\n"
      ],
      "metadata": {
        "id": "h1ze7uEyNCmV"
      }
    },
    {
      "cell_type": "markdown",
      "source": [
        "So, after many tests and tries, I can clearly say that this is the best result(for me):\n",
        "- Train loss: 0.46319 | Train accuracy: 77.86%\n",
        "- Test loss: 0.47379 | Test accuracy: 77.33%\n",
        "\n",
        "It was achieved using the first simple model. Adding complexity like in the second model didn't improve results, infact it just made model to overfit more."
      ],
      "metadata": {
        "id": "dFhaKxlm_6YY"
      }
    },
    {
      "cell_type": "markdown",
      "source": [
        "### PyTorch Lightning\n",
        "\n",
        "Let's try to recreate our first model using `pytorch_lightning`."
      ],
      "metadata": {
        "id": "t0ETD0s-A20K"
      }
    },
    {
      "cell_type": "code",
      "source": [
        "torch.manual_seed(42)\n",
        "np.random.seed(42)\n",
        "\n",
        "class DiabetesLightningModel(LightningModule):\n",
        "    def __init__(self, input_features, output_features): # same model structure as for model_v1\n",
        "        super().__init__()\n",
        "        self.linear1 = torch.nn.Linear(input_features, 128)\n",
        "        self.linear2 = torch.nn.Linear(128, 128)\n",
        "        self.linear3 = torch.nn.Linear(128, output_features)\n",
        "        self.loss_fn = torch.nn.BCEWithLogitsLoss()\n",
        "\n",
        "    def forward(self, x):\n",
        "        x = F.relu(self.linear1(x))\n",
        "        x = F.relu(self.linear2(x))\n",
        "        return self.linear3(x)\n",
        "\n",
        "    def training_step(self, batch, batch_idx):\n",
        "        x, y = batch\n",
        "        y_hat = self(x).squeeze()\n",
        "        loss = self.loss_fn(y_hat, y)\n",
        "\n",
        "        # calculate accuracy\n",
        "        y_pred = torch.sigmoid(y_hat) > 0.5\n",
        "        acc = accuracy_fn(y, y_pred)\n",
        "\n",
        "        self.log(\"train_loss\", loss, prog_bar=True)\n",
        "        self.log(\"train_acc\", acc, prog_bar=True)\n",
        "\n",
        "        return loss\n",
        "\n",
        "    def test_step(self, batch, batch_idx):\n",
        "        x, y = batch\n",
        "        y_hat = self(x).squeeze()\n",
        "        test_loss = self.loss_fn(y_hat, y)\n",
        "\n",
        "        y_pred = torch.sigmoid(y_hat) > 0.5\n",
        "        test_acc = accuracy_fn(y, y_pred)\n",
        "\n",
        "        self.log(\"test_loss\", test_loss, prog_bar=True)\n",
        "        self.log(\"test_acc\", test_acc, prog_bar=True)\n",
        "\n",
        "    def configure_optimizers(self):\n",
        "        return torch.optim.SGD(self.parameters(), lr=0.01) # use SGD and lr=0.01\n",
        "\n"
      ],
      "metadata": {
        "id": "o2X3fXFf8DFF"
      },
      "execution_count": null,
      "outputs": []
    },
    {
      "cell_type": "code",
      "source": [
        "torch.manual_seed(42)\n",
        "np.random.seed(42)\n",
        "\n",
        "input_features = X_train.shape[1]\n",
        "output_features = 1\n",
        "\n",
        "model = DiabetesLightningModel(input_features, output_features)\n",
        "\n",
        "trainer = pl.Trainer(max_epochs=20, log_every_n_steps=1)\n",
        "trainer.fit(model, train_dataloaders=train_loader, val_dataloaders=test_loader)\n",
        "\n",
        "trainer.test(model, dataloaders=test_loader)"
      ],
      "metadata": {
        "colab": {
          "base_uri": "https://localhost:8080/",
          "height": 530,
          "referenced_widgets": [
            "96669223886e4eff84aa33b6736febb2",
            "10de5a3ef9434dda83c60c06f171777d",
            "671ae0ad0518497f88f5fd42edcc7399",
            "179dba6538d54522bd4d0ae456f8ddfb",
            "4af84999a2bc4bc19220ea09d9c8fb31",
            "c6f6a8331cd542ec97d256b163d95a21",
            "f4602fe0d58140a39ddc447aa2e9a7cd",
            "1df2027fbbf542e7bd55da459527a8fd",
            "c6f4879f27074c5da93fed1d11e2c023",
            "3ff295f68af044298248e95d206ded14",
            "5800fbf01a4a46fc9aaed37b10f6195f",
            "c99540eb2e8f449c82a25fd00de16d57",
            "efd3a445e83b4c04a3706d75a5dfd555",
            "b9977c3ce6c54b68b9e4fcc754be42b7",
            "f8740d7b1d2241b0a43ff2884cd81714",
            "a2b6f12047c2424680d50af0ffdfadb2",
            "682b69f080a543c79dcdb164e693dba5",
            "2540921ef2a3440088e8dea12cc45c69",
            "8e577474deef4116818dcd5f566a5fe7",
            "38c49c394b6b498697b8b87ad1173db7",
            "45d14372cd5547849cd2e3e7b3712ca0",
            "f73399c63d1549ad923001a91fda3373"
          ]
        },
        "id": "HOncHMFU8DDH",
        "outputId": "176e7eea-3cbc-465f-a05e-7fc43456a16a"
      },
      "execution_count": null,
      "outputs": [
        {
          "output_type": "stream",
          "name": "stderr",
          "text": [
            "INFO:pytorch_lightning.utilities.rank_zero:GPU available: False, used: False\n",
            "INFO:pytorch_lightning.utilities.rank_zero:TPU available: False, using: 0 TPU cores\n",
            "INFO:pytorch_lightning.utilities.rank_zero:HPU available: False, using: 0 HPUs\n",
            "/usr/local/lib/python3.10/dist-packages/pytorch_lightning/trainer/configuration_validator.py:68: You passed in a `val_dataloader` but have no `validation_step`. Skipping val loop.\n",
            "INFO:pytorch_lightning.callbacks.model_summary:\n",
            "  | Name    | Type              | Params | Mode \n",
            "------------------------------------------------------\n",
            "0 | linear1 | Linear            | 1.2 K  | train\n",
            "1 | linear2 | Linear            | 16.5 K | train\n",
            "2 | linear3 | Linear            | 129    | train\n",
            "3 | loss_fn | BCEWithLogitsLoss | 0      | train\n",
            "------------------------------------------------------\n",
            "17.8 K    Trainable params\n",
            "0         Non-trainable params\n",
            "17.8 K    Total params\n",
            "0.071     Total estimated model params size (MB)\n",
            "4         Modules in train mode\n",
            "0         Modules in eval mode\n"
          ]
        },
        {
          "output_type": "display_data",
          "data": {
            "text/plain": [
              "Training: |          | 0/? [00:00<?, ?it/s]"
            ],
            "application/vnd.jupyter.widget-view+json": {
              "version_major": 2,
              "version_minor": 0,
              "model_id": "96669223886e4eff84aa33b6736febb2"
            }
          },
          "metadata": {}
        },
        {
          "output_type": "stream",
          "name": "stderr",
          "text": [
            "INFO:pytorch_lightning.utilities.rank_zero:`Trainer.fit` stopped: `max_epochs=20` reached.\n"
          ]
        },
        {
          "output_type": "display_data",
          "data": {
            "text/plain": [
              "Testing: |          | 0/? [00:00<?, ?it/s]"
            ],
            "application/vnd.jupyter.widget-view+json": {
              "version_major": 2,
              "version_minor": 0,
              "model_id": "c99540eb2e8f449c82a25fd00de16d57"
            }
          },
          "metadata": {}
        },
        {
          "output_type": "display_data",
          "data": {
            "text/plain": [
              "┏━━━━━━━━━━━━━━━━━━━━━━━━━━━┳━━━━━━━━━━━━━━━━━━━━━━━━━━━┓\n",
              "┃\u001b[1m \u001b[0m\u001b[1m       Test metric       \u001b[0m\u001b[1m \u001b[0m┃\u001b[1m \u001b[0m\u001b[1m      DataLoader 0       \u001b[0m\u001b[1m \u001b[0m┃\n",
              "┡━━━━━━━━━━━━━━━━━━━━━━━━━━━╇━━━━━━━━━━━━━━━━━━━━━━━━━━━┩\n",
              "│\u001b[36m \u001b[0m\u001b[36m        test_acc         \u001b[0m\u001b[36m \u001b[0m│\u001b[35m \u001b[0m\u001b[35m    70.33333587646484    \u001b[0m\u001b[35m \u001b[0m│\n",
              "│\u001b[36m \u001b[0m\u001b[36m        test_loss        \u001b[0m\u001b[36m \u001b[0m│\u001b[35m \u001b[0m\u001b[35m   0.5363509654998779    \u001b[0m\u001b[35m \u001b[0m│\n",
              "└───────────────────────────┴───────────────────────────┘\n"
            ],
            "text/html": [
              "<pre style=\"white-space:pre;overflow-x:auto;line-height:normal;font-family:Menlo,'DejaVu Sans Mono',consolas,'Courier New',monospace\">┏━━━━━━━━━━━━━━━━━━━━━━━━━━━┳━━━━━━━━━━━━━━━━━━━━━━━━━━━┓\n",
              "┃<span style=\"font-weight: bold\">        Test metric        </span>┃<span style=\"font-weight: bold\">       DataLoader 0        </span>┃\n",
              "┡━━━━━━━━━━━━━━━━━━━━━━━━━━━╇━━━━━━━━━━━━━━━━━━━━━━━━━━━┩\n",
              "│<span style=\"color: #008080; text-decoration-color: #008080\">         test_acc          </span>│<span style=\"color: #800080; text-decoration-color: #800080\">     70.33333587646484     </span>│\n",
              "│<span style=\"color: #008080; text-decoration-color: #008080\">         test_loss         </span>│<span style=\"color: #800080; text-decoration-color: #800080\">    0.5363509654998779     </span>│\n",
              "└───────────────────────────┴───────────────────────────┘\n",
              "</pre>\n"
            ]
          },
          "metadata": {}
        },
        {
          "output_type": "execute_result",
          "data": {
            "text/plain": [
              "[{'test_loss': 0.5363509654998779, 'test_acc': 70.33333587646484}]"
            ]
          },
          "metadata": {},
          "execution_count": 33
        }
      ]
    },
    {
      "cell_type": "markdown",
      "source": [
        "What we did in the code:\n",
        "\n",
        "1. Model Structure:\n",
        "   - We created a model class `DiabetesLightningModel` using `LightningModule`, which includes fully connected layers and the `BCEWithLogitsLoss` for binary classification.\n",
        "\n",
        "2. Training Step:\n",
        "   - The `training_step` method calculates the loss and accuracy for each batch and logs them using `self.log()` to track progress.\n",
        "\n",
        "3. Test Step:\n",
        "   - The `test_step` method evaluates the model after training, calculating and logging test loss and accuracy.\n",
        "\n",
        "4. Optimizer:\n",
        "   - We used SGD with a learning rate of 0.01 to optimize the model's parameters.\n",
        "\n",
        "5. Training and Testing:\n",
        "   - `trainer.fit()` starts the training process, and `trainer.test()` evaluates the model after training. PyTorch Lightning automatically handles the loops and updates.\n",
        "\n",
        "6. Logging:\n",
        "   - Metrics like loss and accuracy are logged with `self.log()` for easy tracking during training and testing.\n",
        "\n",
        "\n",
        "Differences Between PyTorch Lightning and Pure PyTorch:\n",
        "\n",
        "- Code Organization:\n",
        "  - PyTorch Lightning uses the `LightningModule` for organizing the model, while pure PyTorch requires manually writing training and testing loops.\n",
        "\n",
        "- Automatic Training Loop:\n",
        "  - PyTorch Lightning automatically handles loops, batching, and gradient updates, reducing boilerplate code.\n",
        "\n",
        "- Easier Logging:\n",
        "  - `self.log()` simplifies tracking metrics compared to manually managing logs in pure PyTorch.\n",
        "\n",
        "- GPU Management:\n",
        "  - PyTorch Lightning handles moving the model to the GPU automatically, unlike pure PyTorch where you need to use `.to(device)`.\n",
        "\n",
        "- Less Boilerplate:\n",
        "  - PyTorch Lightning reduces repetitive code, making the model definition and training process cleaner and more maintainable.\n",
        "\n"
      ],
      "metadata": {
        "id": "qM3WuywbGWrl"
      }
    },
    {
      "cell_type": "markdown",
      "source": [
        "## Convolution operation(1D)"
      ],
      "metadata": {
        "id": "zLCG6NzeOxOb"
      }
    },
    {
      "cell_type": "code",
      "source": [
        "def conv1d(input_array, kernel, stride=1, padding=0):\n",
        "    input_array = np.array(input_array)\n",
        "    kernel = np.array(kernel)\n",
        "\n",
        "\n",
        "    if padding > 0:\n",
        "        input_array = np.pad(input_array, (padding, padding), mode='constant', constant_values=0)\n",
        "\n",
        "    output_length = ((len(input_array) - len(kernel)) // stride) + 1\n",
        "    result = np.zeros(output_length)\n",
        "\n",
        "    for i in range(output_length):\n",
        "        start = i * stride\n",
        "        end = start + len(kernel)\n",
        "        result[i] = np.sum(input_array[start:end] * kernel)\n",
        "\n",
        "    return result\n",
        "\n",
        "input_signal = [1, 2, 3, 4, 5]\n",
        "kernel = [1, 0, -1]\n",
        "output = conv1d(input_signal, kernel, stride=1, padding=1)\n",
        "print(\"Input Signal:\", input_signal)\n",
        "print(\"Kernel:\", kernel)\n",
        "print(\"Output Signal:\", output)\n"
      ],
      "metadata": {
        "id": "yrCR5sLVOxAF",
        "colab": {
          "base_uri": "https://localhost:8080/"
        },
        "outputId": "ae032412-d423-4d7d-dc00-f01a1ea78e7f"
      },
      "execution_count": null,
      "outputs": [
        {
          "output_type": "stream",
          "name": "stdout",
          "text": [
            "Input Signal: [1, 2, 3, 4, 5]\n",
            "Kernel: [1, 0, -1]\n",
            "Output Signal: [-2. -2. -2. -2.  4.]\n"
          ]
        }
      ]
    },
    {
      "cell_type": "markdown",
      "source": [
        "This function performs a 1D convolution, a process of sliding a kernel over the input signal to produce an output signal.\n",
        "\n",
        "- Input and Kernel: Converts the input signal and kernel into NumPy arrays for easier operations.\n",
        "\n",
        "- Padding: Adds zeros to the beginning and end of the input signal if padding is specified. This ensures that edge values are processed correctly.\n",
        "\n",
        "- Output Size: Calculates the length of the output signal based on the input size, kernel size, stride (step size), and padding.\n",
        "\n",
        "- Sliding Window: Slides the kernel over the input signal using the stride. At each position, it multiplies the kernel values with the corresponding input values and sums the result.\n",
        "\n",
        "- Output: Stores these summed values in the output signal array.\n",
        "\n",
        "For example, with input signal [1, 2, 3, 4, 5] and a kernel [1, 0, -1], the function detects changes between neighboring values (like edge detection), producing an output that shows these variations. Adding padding and using a stride of 1 ensures every part of the signal is processed."
      ],
      "metadata": {
        "id": "GaNGUdyeQzkp"
      }
    },
    {
      "cell_type": "markdown",
      "source": [
        "**Tradeoff: Large vs Small Kernel Size**\n",
        "\n",
        "Large Kernel Size:\n",
        "\n",
        "- Captures more context or trends in the data (like smoother denoising or low frequency patterns).\n",
        "Computationally expensive as more elements are involved in each convolution step.\n",
        "Risk of losing finer details or introducing oversmoothing.\n",
        "\n",
        "Small Kernel Size:\n",
        "\n",
        "- Captures localized details, such as edges or sharp transitions.\n",
        "Faster to compute and less resource-intensive.\n",
        "May retain noise or fail to capture larger patterns in the signal.\n",
        "\n",
        "\n",
        "Typically a kernel of size 3–5 is used to balance detail preservation and noise reduction.\n",
        "\n",
        "A large kernel might smooth noise well but lose important signal characteristics, whereas a small kernel might preserve these characteristics but retain noise."
      ],
      "metadata": {
        "id": "p7eAfuYrO9Ki"
      }
    },
    {
      "cell_type": "code",
      "source": [
        "input_signal = [1, 3, 7, 1, 2, 6, 4, 5, 3, 8, 1, 0]\n",
        "\n",
        "small_kernel = [1, -1]\n",
        "medium_kernel = [1, 0, -1]\n",
        "large_kernel = [1, 1, 1, -1, -1, -1]\n",
        "\n",
        "# here we perform convolutions\n",
        "output_small = conv1d(input_signal, small_kernel, stride=1, padding=0)\n",
        "output_medium = conv1d(input_signal, medium_kernel, stride=1, padding=0)\n",
        "output_large = conv1d(input_signal, large_kernel, stride=1, padding=0)\n",
        "\n",
        "plt.figure(figsize=(12, 6))\n",
        "\n",
        "# original kernel\n",
        "plt.subplot(2, 2, 1)\n",
        "plt.plot(input_signal, label='Original Signal', marker='o')\n",
        "plt.title(\"Original Signal\")\n",
        "plt.legend()\n",
        "\n",
        "# small kernel\n",
        "plt.subplot(2, 2, 2)\n",
        "plt.plot(output_small, label='Small Kernel', color='r', marker='o')\n",
        "plt.title(\"Small Kernel\")\n",
        "plt.legend()\n",
        "\n",
        "# medium kernel\n",
        "plt.subplot(2, 2, 3)\n",
        "plt.plot(output_medium, label='Medium Kernel', color='g', marker='o')\n",
        "plt.title(\"Medium Kernel\")\n",
        "plt.legend()\n",
        "\n",
        "# large kernel\n",
        "plt.subplot(2, 2, 4)\n",
        "plt.plot(output_large, label='Large Kernel', color='b', marker='o')\n",
        "plt.title(\"Large Kernel\")\n",
        "plt.legend()\n",
        "\n",
        "plt.tight_layout()\n",
        "plt.show()\n"
      ],
      "metadata": {
        "id": "tiKkLOVGOw-N",
        "colab": {
          "base_uri": "https://localhost:8080/",
          "height": 607
        },
        "outputId": "d09f5368-a670-48ba-c747-be5dac0a3200"
      },
      "execution_count": null,
      "outputs": [
        {
          "output_type": "display_data",
          "data": {
            "text/plain": [
              "<Figure size 1200x600 with 4 Axes>"
            ],
            "image/png": "[encoded data removed]"
          },
          "metadata": {}
        }
      ]
    },
    {
      "cell_type": "markdown",
      "source": [
        "The original signal shows sharp changes with peaks and valleys.\n",
        "\n",
        "Using a small kernel ([1, -1]), the result highlights rapid changes but amplifies noise, making it ideal for detecting fine details or edges.\n",
        "\n",
        "The medium kernel ([1, 0, -1]) smooths out some noise while retaining important patterns, striking a balance between detail and noise reduction.\n",
        "\n",
        "The large kernel ([1, 1, 1, -1, -1, -1]) averages over a broader range, significantly reducing noise but also losing finer details, making it better for observing overall trends.\n",
        "\n",
        "The choice of kernel size depends on the goal: smaller kernels focus on details, while larger ones prioritize noise reduction and trends."
      ],
      "metadata": {
        "id": "virfOkwrQVaY"
      }
    },
    {
      "cell_type": "markdown",
      "source": [
        "## Convolution operation(2D)"
      ],
      "metadata": {
        "id": "ZkjY81RmQ1Kl"
      }
    },
    {
      "cell_type": "markdown",
      "source": [
        "For this I will import a special dataset, that you can find here - https://github.com/mrdbourke/pytorch-deep-learning/tree/main/data"
      ],
      "metadata": {
        "id": "w2jXjrE_SXwK"
      }
    },
    {
      "cell_type": "code",
      "source": [
        "import requests\n",
        "import zipfile\n",
        "from pathlib import Path\n",
        "\n",
        "# Setup path to data folder\n",
        "data_path = Path(\"data/\")\n",
        "image_path = data_path / \"pizza_steak_sushi\"\n",
        "\n",
        "# If the image folder doesn't exist, download it and prepare it...\n",
        "if image_path.is_dir():\n",
        "    print(f\"{image_path} directory exists.\")\n",
        "else:\n",
        "    print(f\"Did not find {image_path} directory, creating one...\")\n",
        "    image_path.mkdir(parents=True, exist_ok=True)\n",
        "\n",
        "    # Download pizza, steak, sushi data\n",
        "    with open(data_path / \"pizza_steak_sushi.zip\", \"wb\") as f:\n",
        "        request = requests.get(\"https://github.com/mrdbourke/pytorch-deep-learning/raw/main/data/pizza_steak_sushi.zip\")\n",
        "        print(\"Downloading pizza, steak, sushi data...\")\n",
        "        f.write(request.content)\n",
        "\n",
        "    # Unzip pizza, steak, sushi data\n",
        "    with zipfile.ZipFile(data_path / \"pizza_steak_sushi.zip\", \"r\") as zip_ref:\n",
        "        print(\"Unzipping pizza, steak, sushi data...\")\n",
        "        zip_ref.extractall(image_path)"
      ],
      "metadata": {
        "id": "weYRuj6dSXEN",
        "colab": {
          "base_uri": "https://localhost:8080/"
        },
        "outputId": "2c452ead-de82-4dcc-8976-32458c139110"
      },
      "execution_count": null,
      "outputs": [
        {
          "output_type": "stream",
          "name": "stdout",
          "text": [
            "Did not find data/pizza_steak_sushi directory, creating one...\n",
            "Downloading pizza, steak, sushi data...\n",
            "Unzipping pizza, steak, sushi data...\n"
          ]
        }
      ]
    },
    {
      "cell_type": "code",
      "source": [
        "def conv2d(input_image, kernel, stride=1, padding=0):\n",
        "    C, H, W = input_image.shape\n",
        "    _, kh, kw = kernel.shape\n",
        "\n",
        "    if padding > 0:\n",
        "        padded_image = np.pad(input_image,\n",
        "                              pad_width=((0, 0), (padding, padding), (padding, padding)),\n",
        "                              mode='constant',\n",
        "                              constant_values=0)\n",
        "    else:\n",
        "        padded_image = input_image\n",
        "\n",
        "    out_height = (H - kh + 2 * padding) // stride + 1\n",
        "    out_width = (W - kw + 2 * padding) // stride + 1\n",
        "\n",
        "    output = np.zeros((C, out_height, out_width))\n",
        "\n",
        "    for c in range(C):\n",
        "        for i in range(0, out_height):\n",
        "            for j in range(0, out_width):\n",
        "                start_h, start_w = i * stride, j * stride\n",
        "                end_h, end_w = start_h + kh, start_w + kw\n",
        "                output[c, i, j] = np.sum(\n",
        "                    padded_image[c, start_h:end_h, start_w:end_w] * kernel[c]\n",
        "                )\n",
        "\n",
        "    return output"
      ],
      "metadata": {
        "id": "E4flKaunOw7x"
      },
      "execution_count": null,
      "outputs": []
    },
    {
      "cell_type": "markdown",
      "source": [
        "Custom 2D convolution function (conv2d). It takes an input image, a kernel (filter), stride and padding as inputs. It applies zero-padding to the image if specified, computes the output dimensions based on the image size, kernel size, stride and padding and then performs the convolution operation channel by channel (for R G B). The result is an output image where the kernel has been applied to every region, highlighting specific features such as edges."
      ],
      "metadata": {
        "id": "rtlBo5qYSzGi"
      }
    },
    {
      "cell_type": "code",
      "source": [
        "from torchvision import datasets, transforms\n",
        "\n",
        "data_transform = transforms.Compose([\n",
        "    transforms.Resize(size=(64, 64)),\n",
        "    transforms.ToTensor()\n",
        "])\n",
        "\n",
        "train_dir = image_path / \"train\"\n",
        "test_dir = image_path / \"test\"\n",
        "\n",
        "train_data = datasets.ImageFolder(root=train_dir, transform=data_transform)\n",
        "test_data = datasets.ImageFolder(root=test_dir, transform=data_transform)\n",
        "\n",
        "train_dataloader = DataLoader(dataset=train_data, batch_size=1, shuffle=True)\n",
        "test_dataloader = DataLoader(dataset=test_data, batch_size=1, shuffle=False)\n",
        "\n",
        "class_names = train_data.classes\n",
        "print(f\"Classes: {class_names}\")\n"
      ],
      "metadata": {
        "id": "kYEhGwxxOw5m",
        "colab": {
          "base_uri": "https://localhost:8080/"
        },
        "outputId": "d1eebf55-2c41-42b2-b14a-f325cf8f6a4c"
      },
      "execution_count": null,
      "outputs": [
        {
          "output_type": "stream",
          "name": "stdout",
          "text": [
            "Classes: ['pizza', 'steak', 'sushi']\n"
          ]
        }
      ]
    },
    {
      "cell_type": "markdown",
      "source": [
        "Here we set up the data preprocessing pipeline using PyTorch's transforms.Compose. It resizes images to 64x64 pixels and converts them into tensors (numerical data that PyTorch models can process). It then uses the ImageFolder class to load images from specified directories (train and test) and organizes them into datasets. Data loaders are created to handle batches of images for training and testing. Finally, it prints the class names (like pizza, steak, sushi) for reference."
      ],
      "metadata": {
        "id": "lgH_KdvYbrsD"
      }
    },
    {
      "cell_type": "code",
      "source": [
        "image_batch, labels_batch = next(iter(train_dataloader))\n",
        "image = image_batch[0]\n",
        "\n",
        "plt.imshow(image.permute(1, 2, 0))\n",
        "plt.title(f\"Label: {class_names[labels_batch[0]]}\")\n",
        "plt.axis(\"off\")\n",
        "plt.show()\n"
      ],
      "metadata": {
        "id": "4ycUpyjNOw3L",
        "colab": {
          "base_uri": "https://localhost:8080/",
          "height": 428
        },
        "outputId": "92d8b76a-a40f-4d8b-e505-5afe5741ca54"
      },
      "execution_count": null,
      "outputs": [
        {
          "output_type": "display_data",
          "data": {
            "text/plain": [
              "<Figure size 640x480 with 1 Axes>"
            ],
            "image/png": "[encoded data removed]"
          },
          "metadata": {}
        }
      ]
    },
    {
      "cell_type": "markdown",
      "source": [
        "Here we retrieve a batch of images and their labels from the training data loader and visualizes the first image in the batch. The permute function rearranges the tensor dimensions from (C, H, W) (PyTorch format) to (H, W, C) (matplotlib format)."
      ],
      "metadata": {
        "id": "K0CFOk-lb2kf"
      }
    },
    {
      "cell_type": "code",
      "source": [
        "image_np = image.numpy()\n",
        "\n",
        "sobel_kernel = np.array([\n",
        "    [[1, 0, -1], [2, 0, -2], [1, 0, -1]],\n",
        "    [[1, 0, -1], [2, 0, -2], [1, 0, -1]],\n",
        "    [[1, 0, -1], [2, 0, -2], [1, 0, -1]]\n",
        "])\n",
        "\n",
        "output_image = conv2d(image_np, sobel_kernel, stride=1, padding=1)\n",
        "\n",
        "plt.imshow(output_image.transpose(1, 2, 0))\n",
        "plt.title(\"Convolved Image\")\n",
        "plt.axis(\"off\")\n",
        "plt.show()"
      ],
      "metadata": {
        "id": "3XWYgkJtOw0B",
        "colab": {
          "base_uri": "https://localhost:8080/",
          "height": 445
        },
        "outputId": "0a1bcc42-b762-46bb-f287-e951ed23c01e"
      },
      "execution_count": null,
      "outputs": [
        {
          "output_type": "stream",
          "name": "stderr",
          "text": [
            "WARNING:matplotlib.image:Clipping input data to the valid range for imshow with RGB data ([0..1] for floats or [0..255] for integers).\n"
          ]
        },
        {
          "output_type": "display_data",
          "data": {
            "text/plain": [
              "<Figure size 640x480 with 1 Axes>"
            ],
            "image/png": "[encoded data removed]"
          },
          "metadata": {}
        }
      ]
    },
    {
      "cell_type": "markdown",
      "source": [
        "Here we convert the selected image into a NumPy array to be compatible with the custom conv2d function. A Sobel kernel is defined for edge detection, where the kernel highlights vertical edges in the image. The convolution function is applied to the image using this kernel, producing an output image that emphasizes edges. Then we visualize resulting convolved image.\n",
        "\n",
        "The showed convolved image shows how convolution with a specific filter, like the Sobel kernel, extracts features from the original image. In this case, it highlights edges and transitions by emphasizing areas of high contrast, making the boundaries and patterns more visible while suppressing flat or uniform regions.\n",
        "\n",
        "\n",
        "\n",
        "\n",
        "\n",
        "\n"
      ],
      "metadata": {
        "id": "lhon4lpVcAPP"
      }
    },
    {
      "cell_type": "code",
      "source": [
        "image_batch, labels_batch = next(iter(train_dataloader))\n",
        "real_image = image_batch[0]\n",
        "\n",
        "plt.imshow(real_image.permute(1, 2, 0))\n",
        "plt.title(f\"Original Image: {class_names[labels_batch[0]]}\")\n",
        "plt.axis(\"off\")\n",
        "plt.show()"
      ],
      "metadata": {
        "id": "G6s74D_W8hUW",
        "colab": {
          "base_uri": "https://localhost:8080/",
          "height": 428
        },
        "outputId": "aecb3c19-296a-4693-a74e-e8b200d43671"
      },
      "execution_count": null,
      "outputs": [
        {
          "output_type": "display_data",
          "data": {
            "text/plain": [
              "<Figure size 640x480 with 1 Axes>"
            ],
            "image/png": "[encoded data removed]"
          },
          "metadata": {}
        }
      ]
    },
    {
      "cell_type": "code",
      "source": [
        "# custom convolution with an averaging kernel\n",
        "avg_kernel = np.ones((3, 3, 3)) / 9  # averaging kernel\n",
        "output_avg = conv2d(real_image.numpy(), avg_kernel, stride=1, padding=1)\n",
        "\n",
        "plt.imshow(output_avg.transpose(1, 2, 0))\n",
        "plt.title(\"Averaging Convolved Image\")\n",
        "plt.axis(\"off\")\n",
        "plt.show()"
      ],
      "metadata": {
        "id": "XkW8TuxF8hR1",
        "colab": {
          "base_uri": "https://localhost:8080/",
          "height": 428
        },
        "outputId": "26794929-3c6d-4782-b0da-560d2b2e6f59"
      },
      "execution_count": null,
      "outputs": [
        {
          "output_type": "display_data",
          "data": {
            "text/plain": [
              "<Figure size 640x480 with 1 Axes>"
            ],
            "image/png": "[encoded data removed]"
          },
          "metadata": {}
        }
      ]
    },
    {
      "cell_type": "code",
      "source": [
        "grayscale_image = real_image.mean(dim=0).numpy()\n",
        "\n",
        "# Sobel kernel for grayscale\n",
        "sobel_kernel_grayscale = np.array([\n",
        "    [1, 0, -1],\n",
        "    [2, 0, -2],\n",
        "    [1, 0, -1]\n",
        "])\n",
        "\n",
        "grayscale_image = grayscale_image[np.newaxis, ...]\n",
        "sobel_kernel_grayscale = sobel_kernel_grayscale[np.newaxis, ...]\n",
        "\n",
        "output_sobel_gray = conv2d(grayscale_image, sobel_kernel_grayscale, stride=1, padding=1)\n",
        "\n",
        "plt.imshow(output_sobel_gray[0], cmap='gray')\n",
        "plt.title(\"Sobel Edge Detection (Grayscale)\")\n",
        "plt.axis(\"off\")\n",
        "plt.show()"
      ],
      "metadata": {
        "id": "QSaB6Seu8hP3",
        "colab": {
          "base_uri": "https://localhost:8080/",
          "height": 428
        },
        "outputId": "04216293-434b-4a3d-b793-7f1afce46326"
      },
      "execution_count": null,
      "outputs": [
        {
          "output_type": "display_data",
          "data": {
            "text/plain": [
              "<Figure size 640x480 with 1 Axes>"
            ],
            "image/png": "[encoded data removed]"
          },
          "metadata": {}
        }
      ]
    },
    {
      "cell_type": "markdown",
      "source": [
        "The convolution operation highlights specific features in the image based on the chosen kernel.\n",
        "The Sobel kernel emphasizes edges, making it useful for edge detection tasks.\n",
        "Convolution on grayscale images simplifies computations and focuses on intensity patterns.\n"
      ],
      "metadata": {
        "id": "QNIpV_iNBnB1"
      }
    }
  ]
}